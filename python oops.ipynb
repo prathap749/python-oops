{
 "cells": [
  {
   "cell_type": "markdown",
   "id": "dc5e8eaa-7d2a-45b7-8354-658c6a36aa88",
   "metadata": {},
   "source": [
    "## PYTHON OOPS (OBJECT ORIENTED PROGRAMMING LANGUAGE)"
   ]
  },
  {
   "cell_type": "markdown",
   "id": "656c3001-5a6a-47c3-a68b-abfc64c5c6ba",
   "metadata": {},
   "source": [
    "- CLASS\n",
    "- OBJECT\n",
    "- METHOD\n",
    "- INHERITANCE\n",
    "- ENCAPSULATION\n",
    "- ABSTRACTION\n",
    "- POLYMORPHISM"
   ]
  },
  {
   "cell_type": "markdown",
   "id": "948b9151-1575-41a3-b343-4c81c3294ea7",
   "metadata": {},
   "source": [
    "<img src=\"https://cdn.shouts.dev/wp-content/uploads/2020/02/11223205/class-object-oop.png\" id=\"img\" style=\"width:240px; height: 250px;\">"
   ]
  },
  {
   "cell_type": "code",
   "execution_count": 3,
   "id": "43cddf63-fa78-407d-992f-594e64b46778",
   "metadata": {},
   "outputs": [
    {
     "data": {
      "text/plain": [
       "int"
      ]
     },
     "execution_count": 3,
     "metadata": {},
     "output_type": "execute_result"
    }
   ],
   "source": [
    "a = 4\n",
    "type(a)"
   ]
  },
  {
   "cell_type": "code",
   "execution_count": 4,
   "id": "956ac9e4-e9e0-442e-9323-db13469bfb45",
   "metadata": {},
   "outputs": [
    {
     "name": "stdout",
     "output_type": "stream",
     "text": [
      "<class 'int'>\n"
     ]
    }
   ],
   "source": [
    "a = 4\n",
    "print(type(a))  # inbuild class"
   ]
  },
  {
   "cell_type": "code",
   "execution_count": 5,
   "id": "5a0c0bdc-8dc8-4527-b0f8-6adb722a1b87",
   "metadata": {},
   "outputs": [
    {
     "name": "stdout",
     "output_type": "stream",
     "text": [
      "<class 'list'>\n"
     ]
    }
   ],
   "source": [
    "l = [1,2,3]\n",
    "print(type(l))"
   ]
  },
  {
   "cell_type": "code",
   "execution_count": 7,
   "id": "dfc81b24-6300-4f4a-891a-cc398b475789",
   "metadata": {},
   "outputs": [
    {
     "data": {
      "text/plain": [
       "<__main__.computer at 0x232c0ac5490>"
      ]
     },
     "execution_count": 7,
     "metadata": {},
     "output_type": "execute_result"
    }
   ],
   "source": [
    "class computer:    # computer is the class\n",
    "    def config():  # config is the method\n",
    "        print('i5','8gb')\n",
    "\n",
    "com1=computer()\n",
    "com1"
   ]
  },
  {
   "cell_type": "code",
   "execution_count": 8,
   "id": "d3daff66-d271-43ba-b610-dbd073cf18ef",
   "metadata": {},
   "outputs": [
    {
     "name": "stdout",
     "output_type": "stream",
     "text": [
      "i5 8gb\n"
     ]
    }
   ],
   "source": [
    "class computer:    # computer is the class\n",
    "    def config():  # config is the method\n",
    "        print('i5','8gb')\n",
    "\n",
    "com1=computer()\n",
    "\n",
    "computer.config()"
   ]
  },
  {
   "cell_type": "code",
   "execution_count": 9,
   "id": "86dbda91-9c82-4328-b468-227358dbb96c",
   "metadata": {},
   "outputs": [
    {
     "name": "stdout",
     "output_type": "stream",
     "text": [
      "i5 8gb\n"
     ]
    }
   ],
   "source": [
    "class computer:    # computer is the class\n",
    "    def config(self):  # config is the method\n",
    "        print('i5','8gb')\n",
    "\n",
    "com1=computer()\n",
    "\n",
    "com1.config()"
   ]
  },
  {
   "cell_type": "code",
   "execution_count": 12,
   "id": "b2aecfa8-6962-403d-9cdd-48e1ab2beb91",
   "metadata": {},
   "outputs": [
    {
     "name": "stdout",
     "output_type": "stream",
     "text": [
      "<__main__.computer object at 0x00000232BF564470>\n",
      "<__main__.computer object at 0x00000232C0AC60F0>\n",
      "<__main__.computer object at 0x00000232C0AC43B0>\n",
      "2416981722224\n",
      "2417004142832\n",
      "2417004135344\n",
      "i5 8gb\n",
      "i5 8gb\n",
      "i5 8gb\n"
     ]
    }
   ],
   "source": [
    "class computer:\n",
    "    def config(self):\n",
    "        print('i5','8gb')\n",
    "\n",
    "com1=computer()\n",
    "com2=computer()\n",
    "com3=computer()\n",
    "\n",
    "print(com1)\n",
    "print(com2)\n",
    "print(com3)\n",
    "\n",
    "print(id(com1))\n",
    "print(id(com2))\n",
    "print(id(com3))\n",
    "\n",
    "com1.config()\n",
    "com2.config()\n",
    "com3.config()"
   ]
  },
  {
   "cell_type": "code",
   "execution_count": 13,
   "id": "32a4fd42-9862-49b7-8368-8191342e8b64",
   "metadata": {},
   "outputs": [
    {
     "name": "stdout",
     "output_type": "stream",
     "text": [
      "<class 'float'>\n",
      "<class '__main__.computer'>\n"
     ]
    }
   ],
   "source": [
    "class computer:        # computer is class (user create the class hear(user defind class)\n",
    "    def config():      # confit is method (define some method hear so when we talk class always method will come ( so dont talk about function hear)\n",
    "        print('i5', '8gb') # i want to print configuration of the machine which i5 ram & 8gb ram\n",
    "    \n",
    "a = 8.8\n",
    "print(type(a))\n",
    "\n",
    "com1 = computer() #com1 is the user define object of the computer class but if you check above a is the object for string data type & in java we called this as constructor\n",
    "print(type(com1))       "
   ]
  },
  {
   "cell_type": "code",
   "execution_count": 14,
   "id": "966d7d75-fc7a-4c39-8e15-f38468b50d13",
   "metadata": {},
   "outputs": [
    {
     "name": "stdout",
     "output_type": "stream",
     "text": [
      "<class '__main__.computer'>\n",
      "<class 'float'>\n"
     ]
    }
   ],
   "source": [
    "class computer:        # computer is class (user create the class hear(user defind class)\n",
    "    def config():      # confit is method (define some method hear so when we talk class always method will come ( so dont talk about function hear)\n",
    "        print('i5', '8gb') # i want to print configuration of the machine which i5 ram & 8gb ram\n",
    "\n",
    "com1 = computer() #com1 is the user define object of the computer class but if you check above a is the object for string data type & in java we called this as constructor\n",
    "print(type(com1)) \n",
    "\n",
    "a = 8.8\n",
    "print(type(a))"
   ]
  },
  {
   "cell_type": "code",
   "execution_count": 15,
   "id": "a8b80876-7158-459c-a8b0-7272a2400f39",
   "metadata": {},
   "outputs": [
    {
     "data": {
      "text/plain": [
       "'__main__'"
      ]
     },
     "execution_count": 15,
     "metadata": {},
     "output_type": "execute_result"
    }
   ],
   "source": [
    "__name__"
   ]
  },
  {
   "cell_type": "code",
   "execution_count": 16,
   "id": "8031ee99-43ba-460f-a17a-86cae7eb2bad",
   "metadata": {},
   "outputs": [
    {
     "name": "stdout",
     "output_type": "stream",
     "text": [
      "i5 8gb\n"
     ]
    }
   ],
   "source": [
    "class computer:  # computer is the class\n",
    "    def config(): # config is the method\n",
    "        print('i5','8gb')\n",
    "\n",
    "com1=computer() # com1 is the object of the computer\n",
    "\n",
    "computer.config()"
   ]
  },
  {
   "cell_type": "code",
   "execution_count": 18,
   "id": "9fb404e3-369e-4a69-8240-bd9b8a5d3611",
   "metadata": {},
   "outputs": [
    {
     "name": "stdout",
     "output_type": "stream",
     "text": [
      "i5 8gb\n"
     ]
    }
   ],
   "source": [
    "class computer:\n",
    "    def config(self):\n",
    "        print('i5','8gb')\n",
    "\n",
    "com1=computer()\n",
    "\n",
    "com1.config()  # we use com1 then self is added in config(method)"
   ]
  },
  {
   "cell_type": "code",
   "execution_count": 19,
   "id": "76e2cf91-4806-47cb-a6b7-8ec3b188d1e6",
   "metadata": {},
   "outputs": [
    {
     "name": "stdout",
     "output_type": "stream",
     "text": [
      "i5 8gb\n",
      "i5 8gb\n"
     ]
    }
   ],
   "source": [
    "class computer:\n",
    "    def config(self):\n",
    "        print('i5','8gb')\n",
    "\n",
    "com1=computer()\n",
    "com2=computer()\n",
    "\n",
    "com1.config()\n",
    "com2.config()"
   ]
  },
  {
   "cell_type": "code",
   "execution_count": 20,
   "id": "b7bff623-baf3-4332-9e52-6cba8a76a89a",
   "metadata": {},
   "outputs": [
    {
     "name": "stdout",
     "output_type": "stream",
     "text": [
      "<class '__main__.computer'>\n"
     ]
    }
   ],
   "source": [
    "class computer:        # computer is class (user create the class hear(user defind class)\n",
    "    def config():      # confit is method (define some method hear so when we talk class always method will come ( so dont talk about function hear)\n",
    "        print('i5', '8gb') # i want to print configuration of the machine which i5 ram & 8gb ram\n",
    "    \n",
    "#a = '8'\n",
    "#print(type(a))\n",
    "\n",
    "com1 = computer() #com1 is the user define object of the computer class but if you check above a is the object for string data type & in java we called this as constructor\n",
    "print(type(com1))       "
   ]
  },
  {
   "cell_type": "code",
   "execution_count": 24,
   "id": "ce241246-5a42-474b-aeb7-71ab2a62dc0f",
   "metadata": {},
   "outputs": [
    {
     "name": "stdout",
     "output_type": "stream",
     "text": [
      "i5 8gb\n"
     ]
    }
   ],
   "source": [
    "class computer:        \n",
    "    def config(self):      # self is the object which user passing\n",
    "        print('i5', '8gb')\n",
    "\n",
    "com1 = computer()\n",
    "#com1.config()\n",
    "computer.config(com1) #hear com1 act as parameter going to the self"
   ]
  },
  {
   "cell_type": "code",
   "execution_count": 26,
   "id": "bbde87a9-a006-4248-9f61-bdcc3e5ce367",
   "metadata": {},
   "outputs": [
    {
     "name": "stdout",
     "output_type": "stream",
     "text": [
      "i5 8gb\n",
      "i5 8gb\n",
      "i5 8gb\n"
     ]
    }
   ],
   "source": [
    "class computer:        \n",
    "    def config(self):      # self is the object which user passing\n",
    "        print('i5', '8gb')\n",
    "\n",
    "com1 = computer()\n",
    "com2 = computer()\n",
    "com3 = computer()\n",
    "\n",
    "computer.config(com1)  # config method belongs to computer\n",
    "computer.config(com2)\n",
    "computer.config(com3)"
   ]
  },
  {
   "cell_type": "code",
   "execution_count": 27,
   "id": "3eba4b81-46f7-48e9-9dee-35a159575de0",
   "metadata": {},
   "outputs": [
    {
     "name": "stdout",
     "output_type": "stream",
     "text": [
      "i5 8gb\n",
      "i5 8gb\n",
      "i5 8gb\n"
     ]
    }
   ],
   "source": [
    "class computer:        \n",
    "    def config(self):      # self is the object which user passing\n",
    "        print('i5', '8gb')\n",
    "\n",
    "com1 = computer()\n",
    "com2 = computer()\n",
    "com3 = computer()\n",
    "\n",
    "#computer.config(com1)\n",
    "#computer.config(com2)\n",
    "\n",
    "com1.config()\n",
    "com2.config()\n",
    "com3.config()"
   ]
  },
  {
   "cell_type": "code",
   "execution_count": 28,
   "id": "193b2bf5-2779-4e73-a2a2-e3c4b6762126",
   "metadata": {},
   "outputs": [
    {
     "name": "stdout",
     "output_type": "stream",
     "text": [
      "i7 16gb\n",
      "i7 16gb\n",
      "i7 16gb\n"
     ]
    }
   ],
   "source": [
    "class computer:\n",
    "    def config(self):   # self is the object which user passing\n",
    "        print('i7','16gb')\n",
    "\n",
    "com1 = computer()\n",
    "com2 = computer()\n",
    "com3 = computer()\n",
    "\n",
    "com1.config()\n",
    "com2.config()\n",
    "com3.config()"
   ]
  },
  {
   "cell_type": "code",
   "execution_count": 30,
   "id": "109f2643-9d88-40eb-b68e-d723a894c53d",
   "metadata": {},
   "outputs": [
    {
     "name": "stdout",
     "output_type": "stream",
     "text": [
      "i7 8gb\n",
      "i7 8gb\n"
     ]
    }
   ],
   "source": [
    "class computer:\n",
    "    def config(self):\n",
    "        print('i7','8gb')\n",
    "\n",
    "com1 = computer()\n",
    "com2 = computer()\n",
    "\n",
    "com1.config()\n",
    "com2.config()"
   ]
  },
  {
   "cell_type": "raw",
   "id": "a3406a1c-a212-4b2b-b90c-dbf7317d3ed5",
   "metadata": {},
   "source": [
    "  __init__ method in python"
   ]
  },
  {
   "cell_type": "markdown",
   "id": "d34185b4-e067-4be8-98a0-eb55591ecd2e",
   "metadata": {},
   "source": [
    "- special methods in oops\n",
    "- 1.special variables \n",
    "- 2.special methods "
   ]
  },
  {
   "cell_type": "code",
   "execution_count": 32,
   "id": "d9a0c01c-a9bd-4419-b9b1-c16ff8c668d8",
   "metadata": {},
   "outputs": [
    {
     "data": {
      "text/plain": [
       "'__main__'"
      ]
     },
     "execution_count": 32,
     "metadata": {},
     "output_type": "execute_result"
    }
   ],
   "source": [
    "__name__"
   ]
  },
  {
   "cell_type": "code",
   "execution_count": 33,
   "id": "4d2231b5-5e6d-44c2-860a-022bdcee34ed",
   "metadata": {},
   "outputs": [
    {
     "name": "stdout",
     "output_type": "stream",
     "text": [
      "i7 16gb\n"
     ]
    }
   ],
   "source": [
    "class computer:\n",
    "    def __init__(self):\n",
    "        print('i7','16gb')\n",
    "\n",
    "c1 = computer()\n",
    "#c1.__init__()"
   ]
  },
  {
   "cell_type": "code",
   "execution_count": 34,
   "id": "0d11913b-1835-4975-89a8-3bc791098500",
   "metadata": {},
   "outputs": [
    {
     "name": "stdout",
     "output_type": "stream",
     "text": [
      "in init\n",
      "in init\n",
      "in init\n"
     ]
    }
   ],
   "source": [
    "class computer:\n",
    "\n",
    "    def __init__(self):  # __init__ means initialize the variable\n",
    "        print('in init')\n",
    "\n",
    "com1 = computer()\n",
    "com2 = computer()\n",
    "com3 = computer()"
   ]
  },
  {
   "cell_type": "code",
   "execution_count": 35,
   "id": "b229c330-4b15-4c1e-9780-53bdbf9ae3a4",
   "metadata": {},
   "outputs": [
    {
     "name": "stdout",
     "output_type": "stream",
     "text": [
      "in init\n"
     ]
    }
   ],
   "source": [
    "class computer:\n",
    "\n",
    "    def __init__(self):  # __init__ means initialize the variable\n",
    "        print('in init')\n",
    "\n",
    "com1 = computer()"
   ]
  },
  {
   "cell_type": "code",
   "execution_count": 36,
   "id": "262de56a-0d00-497d-b588-506bf5e54dfb",
   "metadata": {},
   "outputs": [
    {
     "name": "stdout",
     "output_type": "stream",
     "text": [
      "in init\n",
      "hello\n"
     ]
    }
   ],
   "source": [
    "class computer:\n",
    "\n",
    "    def __init__(self):  # init will call automatically \n",
    "        print('in init')\n",
    "        print('hello')\n",
    "\n",
    "com1 = computer()"
   ]
  },
  {
   "cell_type": "code",
   "execution_count": 37,
   "id": "4abeba95-e80c-4df0-8443-87b16f0dd2a8",
   "metadata": {},
   "outputs": [
    {
     "name": "stdout",
     "output_type": "stream",
     "text": [
      "in init\n",
      "in init\n"
     ]
    }
   ],
   "source": [
    "class computer:\n",
    "\n",
    "    def nit(self):\n",
    "        print('in init')\n",
    "\n",
    "com1 = computer()\n",
    "com2 = computer()\n",
    "\n",
    "com1.nit()\n",
    "com2.nit()"
   ]
  },
  {
   "cell_type": "code",
   "execution_count": 38,
   "id": "23865304-5f63-4ece-90f6-df7b5fb51629",
   "metadata": {},
   "outputs": [
    {
     "name": "stdout",
     "output_type": "stream",
     "text": [
      "in init\n",
      "i5 8gb\n"
     ]
    }
   ],
   "source": [
    "class computer:\n",
    "    def __init__(self):  # __init__ will call automatically\n",
    "        print('in init')\n",
    "\n",
    "    def config(self):  # config is not automatical\n",
    "        print('i5','8gb')\n",
    "\n",
    "com1 = computer()\n",
    "\n",
    "com1.config()"
   ]
  },
  {
   "cell_type": "code",
   "execution_count": 41,
   "id": "b31cc032-f419-4353-871c-f853d1361768",
   "metadata": {},
   "outputs": [
    {
     "name": "stdout",
     "output_type": "stream",
     "text": [
      "in init\n",
      "in init\n",
      "i5 8gb\n",
      "i7 16gb\n"
     ]
    }
   ],
   "source": [
    "class computer:\n",
    "    def config(self):\n",
    "        print('i5','8gb')\n",
    "        \n",
    "    def config2(self):\n",
    "        print('i7','16gb')\n",
    "        \n",
    "    def __init__(self):\n",
    "        print('in init')\n",
    "\n",
    "com1 = computer()\n",
    "com2 = computer()\n",
    "\n",
    "com1.config()\n",
    "com1.config2()"
   ]
  },
  {
   "cell_type": "code",
   "execution_count": 42,
   "id": "f4b61752-ded0-48d3-9871-8caf2f141ec3",
   "metadata": {},
   "outputs": [
    {
     "name": "stdout",
     "output_type": "stream",
     "text": [
      "in init\n",
      "in init\n",
      "i5 8gb\n",
      "i5 8gb\n"
     ]
    }
   ],
   "source": [
    "class computer:        \n",
    "    \n",
    "    def __init__(self): # idea behind init is it will call automatically\n",
    "        print('in init') #i define a function called init & i am not calling init\n",
    "    \n",
    "    def config(self):     # i m calling config cuz i want to execute\n",
    "        print('i5', '8gb')\n",
    "\n",
    "com1 = computer() # as we create 2 object automatically init called 2 times\n",
    "com2 = computer()\n",
    "\n",
    "com1.config() \n",
    "com2.config()"
   ]
  },
  {
   "cell_type": "code",
   "execution_count": 43,
   "id": "ed7456da-54db-4ad4-a09d-99de71404397",
   "metadata": {},
   "outputs": [
    {
     "name": "stdout",
     "output_type": "stream",
     "text": [
      "in init\n",
      "in init\n",
      "in init\n",
      "i5 8gb\n",
      "i5 8gb\n",
      "i5 8gb\n"
     ]
    }
   ],
   "source": [
    "class computer:        \n",
    "    \n",
    "    def __init__(self): # idea behind init is it will call automatically\n",
    "        print('in init') #i define a function called init & i am not calling init\n",
    "    \n",
    "    def config(self):     # i m calling config cuz i want to execute\n",
    "        print('i5', '8gb')\n",
    "\n",
    "com1 = computer() # as we create 2 object automatically init called 2 times\n",
    "com2 = computer()\n",
    "com3 = computer()\n",
    "\n",
    "com1.config() \n",
    "com2.config()\n",
    "com3.config()"
   ]
  },
  {
   "cell_type": "code",
   "execution_count": 46,
   "id": "a2b65771-d811-40c8-a82a-a29fc88e1a3c",
   "metadata": {},
   "outputs": [
    {
     "name": "stdout",
     "output_type": "stream",
     "text": [
      "in init\n",
      "i5 8gb\n"
     ]
    }
   ],
   "source": [
    "# hear i want to pass some argument  & i want to pass cpu & ram\n",
    "# hear we have 2 computer & 2 different cpu\n",
    "class computer:        \n",
    "    \n",
    "    def __init__(self): #__init__ means to initialize the variable\n",
    "        print('in init')\n",
    "    \n",
    "    def config(self):     \n",
    "        print('i5', '8gb')\n",
    "\n",
    "com1 = computer() # com1 has cpu i5 & ram is 8 \n",
    "\n",
    "com1.config() "
   ]
  },
  {
   "cell_type": "code",
   "execution_count": 4,
   "id": "55140951-20b8-4679-9072-f56b35312d5e",
   "metadata": {},
   "outputs": [
    {
     "name": "stdout",
     "output_type": "stream",
     "text": [
      "in init\n",
      "in init\n",
      "i5 8gb\n",
      "i7 16gb\n"
     ]
    }
   ],
   "source": [
    "class computer:\n",
    "    def config(self):\n",
    "        print('i5','8gb')\n",
    "\n",
    "    def config2(self):\n",
    "        print('i7','16gb')\n",
    "\n",
    "    def __init__(self):\n",
    "        print('in init')\n",
    "\n",
    "com1 = computer()\n",
    "com2 = computer()\n",
    "\n",
    "com1.config()\n",
    "com2.config2()"
   ]
  },
  {
   "cell_type": "code",
   "execution_count": 5,
   "id": "e4faa131-781e-421d-a093-39da9c8cb300",
   "metadata": {},
   "outputs": [
    {
     "name": "stdout",
     "output_type": "stream",
     "text": [
      "in init\n"
     ]
    }
   ],
   "source": [
    "class computer:\n",
    "    def __init__(self):\n",
    "        print('in init')\n",
    "\n",
    "    def config(self):\n",
    "        print('i5','8gb')\n",
    "\n",
    "com1 = computer()"
   ]
  },
  {
   "cell_type": "code",
   "execution_count": 6,
   "id": "5477875a-fab3-401c-a6db-1a218a49ce1e",
   "metadata": {},
   "outputs": [
    {
     "name": "stdout",
     "output_type": "stream",
     "text": [
      "in init\n",
      "in init\n",
      "in init\n",
      "i5 8gb\n",
      "i5 8gb\n",
      "i5 8gb\n"
     ]
    }
   ],
   "source": [
    "class computer:        \n",
    "    \n",
    "    def __init__(self): # idea behind init is it will call automatically\n",
    "        print('in init') #i define a function called init & i am not calling init\n",
    "    \n",
    "    def config(self):     # i m calling config cuz i want to execute\n",
    "        print('i5', '8gb')\n",
    "\n",
    "com1 = computer() # as we create 2 object automatically init called 2 times\n",
    "com2 = computer()\n",
    "com3 = computer()\n",
    "\n",
    "com1.config() \n",
    "com2.config()\n",
    "com3.config()"
   ]
  },
  {
   "cell_type": "code",
   "execution_count": 10,
   "id": "c0849290-82a8-4fad-816d-cca60374ce36",
   "metadata": {},
   "outputs": [
    {
     "name": "stdout",
     "output_type": "stream",
     "text": [
      "in init\n",
      "in init\n",
      "i5 8gb\n",
      "i7 16\n",
      "i5 8gb\n",
      "i7 16\n"
     ]
    }
   ],
   "source": [
    "class computer:\n",
    "    def __init__(self, cpu, ram):  #cpu and ram as argument\n",
    "        print('in init')\n",
    "\n",
    "    def config(self):\n",
    "        print('i5','8gb')\n",
    "        print('i7',16)\n",
    "\n",
    "com1 = computer('i5', 8)\n",
    "com2 = computer('i7', 16)\n",
    "\n",
    "com1.config()\n",
    "com2.config()                      # com1 = object| cpu = i5| ram = 8gb"
   ]
  },
  {
   "cell_type": "code",
   "execution_count": 11,
   "id": "91cdd5b8-ce7a-4b36-a0e9-67647d54efd7",
   "metadata": {},
   "outputs": [
    {
     "name": "stdout",
     "output_type": "stream",
     "text": [
      "config is i5 8\n",
      "config is i7 16\n"
     ]
    }
   ],
   "source": [
    "class computer:\n",
    "    def __init__(self,cpu,ram):    # CPU and RAM as arguments \n",
    "        self.cpu = cpu   # hear self is the object & we need to refer to the object      \n",
    "        self.ram = ram\n",
    "\n",
    "    def config(self):\n",
    "        print('config is', self.cpu, self.ram)\n",
    "\n",
    "com1 = computer('i5', 8)\n",
    "com2 = computer('i7', 16)\n",
    "\n",
    "com1.config()\n",
    "com2.config()"
   ]
  },
  {
   "cell_type": "code",
   "execution_count": 12,
   "id": "3808f54f-6238-44fe-8ada-7767970d98dc",
   "metadata": {},
   "outputs": [
    {
     "name": "stdout",
     "output_type": "stream",
     "text": [
      "config is i5 8\n",
      "config is i7 16\n",
      "config is i12 32\n"
     ]
    }
   ],
   "source": [
    "class computer:\n",
    "    def __init__(self,cpu,ram):    # CPU and RAM as arguments \n",
    "        self.cpu = cpu   # hear self is the object & we need to refer to the object      \n",
    "        self.ram = ram\n",
    "\n",
    "    def config(self):\n",
    "        print('config is', self.cpu, self.ram)\n",
    "\n",
    "com1 = computer('i5', 8)\n",
    "com2 = computer('i7', 16)\n",
    "com3 = computer('i12',32)\n",
    "\n",
    "com1.config()\n",
    "com2.config()\n",
    "com3.config()"
   ]
  },
  {
   "cell_type": "code",
   "execution_count": 13,
   "id": "618493c9-3df8-42ad-bc6c-50c42736c982",
   "metadata": {},
   "outputs": [
    {
     "name": "stdout",
     "output_type": "stream",
     "text": [
      "config is i5 8 256\n",
      "config is i7 16 512\n",
      "2252983596528\n",
      "2252983595520\n"
     ]
    }
   ],
   "source": [
    "class computer:\n",
    "    def __init__(self,cpu,ram,mem):    # CPU, RAM and MEMORY as arguments \n",
    "        self.cpu = cpu   # hear self is the object & we need to refer to the object      \n",
    "        self.ram = ram\n",
    "        self.mem = mem\n",
    "\n",
    "    def config(self):\n",
    "        print('config is', self.cpu, self.ram, self.mem)\n",
    "\n",
    "com1 = computer('i5', 8, 256)\n",
    "com2 = computer('i7', 16, 512)\n",
    "\n",
    "com1.config()\n",
    "com2.config()\n",
    "\n",
    "print(id(com1))\n",
    "print(id(com2))"
   ]
  },
  {
   "cell_type": "code",
   "execution_count": 15,
   "id": "6cfe27d6-b722-4dc6-a622-eb2d5c96a72e",
   "metadata": {},
   "outputs": [
    {
     "name": "stdout",
     "output_type": "stream",
     "text": [
      "config is i5 8 256 hp\n",
      "config is i7 16 512 lenovo\n",
      "2252983631072\n",
      "2252983630544\n"
     ]
    }
   ],
   "source": [
    "class computer:\n",
    "    def __init__(self,cpu,ram,mem,brand):    # CPU, RAM ,MEMORY and BRAND as arguments \n",
    "        self.cpu = cpu   # hear self is the object & we need to refer to the object      \n",
    "        self.ram = ram\n",
    "        self.mem = mem\n",
    "        self.brand = brand\n",
    "\n",
    "    def config(self):\n",
    "        print('config is', self.cpu, self.ram, self.mem, self.brand)\n",
    "\n",
    "com1 = computer('i5', 8, 256, 'hp')\n",
    "com2 = computer('i7', 16, 512, 'lenovo')\n",
    "\n",
    "com1.config()\n",
    "com2.config()\n",
    "\n",
    "print(id(com1))\n",
    "print(id(com2))"
   ]
  },
  {
   "cell_type": "code",
   "execution_count": 16,
   "id": "e37f8de9-8b7e-4f51-8ca4-fdc7cf513ddf",
   "metadata": {},
   "outputs": [
    {
     "name": "stdout",
     "output_type": "stream",
     "text": [
      "2252959906560\n"
     ]
    }
   ],
   "source": [
    "class computer:\n",
    "    pass\n",
    "c1 = computer()\n",
    "print(id(c1))"
   ]
  },
  {
   "cell_type": "code",
   "execution_count": 17,
   "id": "6ad5baea-ca66-4050-a4f4-b9c920bfd354",
   "metadata": {},
   "outputs": [
    {
     "name": "stdout",
     "output_type": "stream",
     "text": [
      "2252983597440\n",
      "2252959906560\n"
     ]
    }
   ],
   "source": [
    "class computer:\n",
    "    pass\n",
    "c1 = computer()   # C1 and C2 are constructors\n",
    "c2 = computer()\n",
    "\n",
    "print(id(c1))\n",
    "print(id(c2))"
   ]
  },
  {
   "cell_type": "code",
   "execution_count": 20,
   "id": "5f83faf2-afe6-480b-8fbb-6f65130ba6bb",
   "metadata": {},
   "outputs": [
    {
     "name": "stdout",
     "output_type": "stream",
     "text": [
      "prathap 24\n",
      "prathap\n"
     ]
    }
   ],
   "source": [
    "class computer:\n",
    "    def __init__(self):\n",
    "        self.name = 'prathap'\n",
    "        self.age = 24\n",
    "\n",
    "c1 = computer()\n",
    "c2 = computer()\n",
    "\n",
    "print(c1.name,c1.age)\n",
    "print(c2.name)"
   ]
  },
  {
   "cell_type": "code",
   "execution_count": 21,
   "id": "a67cfb19-053c-4caa-bbea-e351758fb156",
   "metadata": {},
   "outputs": [
    {
     "name": "stdout",
     "output_type": "stream",
     "text": [
      "Anand\n",
      "israel\n"
     ]
    }
   ],
   "source": [
    "class computer:\n",
    "    def __init__(self):\n",
    "        self.name = 'prathap'\n",
    "        self.age = 24\n",
    "\n",
    "c1 = computer()\n",
    "c2 = computer()\n",
    "\n",
    "c2.name = 'israel'\n",
    "c1.name = 'Anand'\n",
    "\n",
    "print(c1.name)\n",
    "print(c2.name)"
   ]
  },
  {
   "cell_type": "code",
   "execution_count": 22,
   "id": "5ed3355c-496b-4292-92ac-4e16b4fa9a88",
   "metadata": {},
   "outputs": [
    {
     "name": "stdout",
     "output_type": "stream",
     "text": [
      "nit 40\n",
      "37\n",
      "akash\n"
     ]
    }
   ],
   "source": [
    "class computer:\n",
    "    def __init__(self):\n",
    "        self.name = 'akash'\n",
    "        self.age = 37\n",
    "\n",
    "c1 = computer()\n",
    "c2 = computer()\n",
    "\n",
    "c1.name = 'nit'\n",
    "c1.age = 40\n",
    "\n",
    "print(c1.name, c1.age)\n",
    "print(c2.age)\n",
    "print(c2.name)"
   ]
  },
  {
   "cell_type": "code",
   "execution_count": 23,
   "id": "8710a8f4-449b-4100-aa86-ac2b643815d6",
   "metadata": {},
   "outputs": [
    {
     "name": "stdout",
     "output_type": "stream",
     "text": [
      "nit 24\n",
      "37\n",
      "akash\n",
      "2252983598784\n",
      "2252980201392\n"
     ]
    }
   ],
   "source": [
    "class computer:\n",
    "    def __init__(self):\n",
    "        self.name = 'akash'\n",
    "        self.age = 37\n",
    "\n",
    "c1 = computer()\n",
    "c2 = computer()\n",
    "\n",
    "c1.name = 'nit'\n",
    "c1.age = 24\n",
    "\n",
    "print(c1.name, c1.age)\n",
    "print(c2.age)\n",
    "print(c2.name)\n",
    "\n",
    "print(id(c1))\n",
    "print(id(c2))"
   ]
  },
  {
   "cell_type": "code",
   "execution_count": 24,
   "id": "3c5bd092-3eea-41f8-afc2-945f4f815ac7",
   "metadata": {},
   "outputs": [
    {
     "name": "stdout",
     "output_type": "stream",
     "text": [
      "nit 30\n",
      "prathap 24\n"
     ]
    }
   ],
   "source": [
    "class computer:\n",
    "    def __init__(self):\n",
    "        self.name = 'prathap'\n",
    "        self.age = 24\n",
    "    \n",
    "    def update(self):  #lets create another object \n",
    "        self.age = 30 \n",
    "\n",
    "c1 = computer()\n",
    "c2 = computer()\n",
    "\n",
    "c1.name = 'nit'\n",
    "c1.age = 20\n",
    "\n",
    "c1.update() #when we call update which value will change & i am not mentioning which object i am talking about\n",
    "                # self is refering to c1\n",
    "print(c1.name, c1.age)\n",
    "#print(c1.age)\n",
    "print(c2.name, c2.age)\n",
    "#print(c2.age)"
   ]
  },
  {
   "cell_type": "code",
   "execution_count": 25,
   "id": "81d3b928-dc6f-49c3-90ce-061488a9381e",
   "metadata": {},
   "outputs": [
    {
     "name": "stdout",
     "output_type": "stream",
     "text": [
      "akash 30\n",
      "nit 20\n"
     ]
    }
   ],
   "source": [
    "class computer:\n",
    "    def __init__(self):\n",
    "        self.name = 'akash'\n",
    "        self.age = 37\n",
    "    \n",
    "    def update(self):  #lets create another object \n",
    "        self.age = 30 \n",
    "\n",
    "c1 = computer()\n",
    "c2 = computer()\n",
    "\n",
    "c2.name = 'nit'\n",
    "c2.age = 20\n",
    "\n",
    "c1.update() #when we call update which value will change & i am not mentioning which object i am talking about\n",
    "                # self is refering to c1\n",
    "print(c1.name, c1.age)\n",
    "#print(c1.age)\n",
    "print(c2.name, c2.age)\n",
    "#print(c2.age)"
   ]
  },
  {
   "cell_type": "markdown",
   "id": "70d28bc0-3e4e-4b78-9043-e683d2c50665",
   "metadata": {},
   "source": [
    "## Update()"
   ]
  },
  {
   "cell_type": "code",
   "execution_count": 27,
   "id": "e26c4c13-aed6-400f-a880-eb71423dbb55",
   "metadata": {},
   "outputs": [
    {
     "name": "stdout",
     "output_type": "stream",
     "text": [
      "2252983629680\n",
      "2252980438176\n",
      "prathap 24\n",
      "prathap 35\n"
     ]
    }
   ],
   "source": [
    "class computer:\n",
    "    def __init__(self):\n",
    "        self.name = 'prathap'\n",
    "        self.age = 24\n",
    "    \n",
    "    def update(self):  #lets create another object \n",
    "        self.age = 35\n",
    "\n",
    "c1 = computer()\n",
    "c2 = computer()\n",
    "\n",
    "print(id(c1))\n",
    "print(id(c2))\n",
    "\n",
    "if c1 == c2: #hear i dont want to compare object address but i want to compare vlaues means age\n",
    "    print('they are same') # compare is not an inbuild method #we cant compare like that so we are using special function \n",
    "                            # if the age are same then it wil print they are same\n",
    "c2.update() # when we call update which value will change & i am not mentioning which object i am talking about\n",
    "            # python is unable to compare 2 object\n",
    "print(c1.name, c1.age)\n",
    "#print(c1.age)\n",
    "print(c2.name,c2.age)\n",
    "#print(c2.age)"
   ]
  },
  {
   "cell_type": "code",
   "execution_count": 29,
   "id": "234c1d74-b528-4801-8777-cbdebcd37b4a",
   "metadata": {},
   "outputs": [
    {
     "name": "stdout",
     "output_type": "stream",
     "text": [
      "they are same\n",
      "prathap 24\n",
      "prathap\n"
     ]
    }
   ],
   "source": [
    "class computer:\n",
    "    def __init__(self):\n",
    "        self.name = 'prathap'\n",
    "        self.age = 24\n",
    "    \n",
    "          \n",
    "    def compare(self,other):# that means self become c1 & you are compare with others,self is c1, other is c2\n",
    "        if self.age == other.age:\n",
    "            return True\n",
    "        else:\n",
    "            return False\n",
    "\n",
    "c1 = computer()\n",
    "c2 = computer()\n",
    "\n",
    "if c1.compare(c2): #hear i dont want to compare object address but i want to compare vlaues means age\n",
    "    print('they are same') # compare is not an inbuild method \n",
    "\n",
    "#c1.update() #when we call update which value will change & i am not mentioning which object i am talking about\n",
    "\n",
    "print(c1.name,c1.age)\n",
    "print(c2.name)"
   ]
  },
  {
   "cell_type": "code",
   "execution_count": 30,
   "id": "c2a8e8e7-1b2f-4e32-a55d-2aee8676b9fe",
   "metadata": {},
   "outputs": [
    {
     "name": "stdout",
     "output_type": "stream",
     "text": [
      "they are different\n",
      "prathap\n",
      "prathap\n"
     ]
    }
   ],
   "source": [
    "# what happen if they have different age \n",
    "\n",
    "class computer:\n",
    "    def __init__(self):\n",
    "        self.name = 'prathap'\n",
    "        self.age = 37\n",
    "    \n",
    "          \n",
    "    def compare(self,other):# that means self become c1 & you are compare with others,self is comparing with others \n",
    "        if self.age == other.age:\n",
    "            return True\n",
    "        else:\n",
    "            return False\n",
    "\n",
    "c1 = computer()\n",
    "c1.age = 30\n",
    "c2 = computer()\n",
    "\n",
    "if c1.compare(c2): #hear i dont want to compare object address but i want to compare vlaues means age\n",
    "    print('they are same') # compare is not an inbuild method \n",
    "else:\n",
    "    print('they are different')\n",
    "#c1.update() #when we call update which value will change & i am not mentioning which object i am talking about\n",
    "\n",
    "print(c1.name)\n",
    "print(c2.name) #hear names are same but ages are different \n",
    "# hear comparing with 2 parameter ( who is calling,  whom to compare)"
   ]
  },
  {
   "cell_type": "markdown",
   "id": "fe1a8fb5-9d62-4cda-852c-fe3d2e3d1bb0",
   "metadata": {},
   "source": [
    "# Constructor, self and Comparing Objects"
   ]
  },
  {
   "cell_type": "code",
   "execution_count": 1,
   "id": "6cf8e8a5-72f0-4a0d-af01-f5aec85f9895",
   "metadata": {},
   "outputs": [
    {
     "name": "stdout",
     "output_type": "stream",
     "text": [
      "<__main__.school object at 0x00000295E95A3F20>\n"
     ]
    }
   ],
   "source": [
    "class school():  # this is the way we need to create the class \n",
    "    pass\n",
    "\n",
    "c1 = school    # this is we need to create the object\n",
    "print(c1)"
   ]
  },
  {
   "cell_type": "code",
   "execution_count": 2,
   "id": "414af39a-0857-41f5-9754-792d7e934e03",
   "metadata": {},
   "outputs": [
    {
     "name": "stdout",
     "output_type": "stream",
     "text": [
      "30\n",
      "80\n"
     ]
    }
   ],
   "source": [
    "class school():\n",
    "    def __init__(self,m,s):  # automatically init function calls\n",
    "        self.math_mark = m    # hear we pass 3 arguments\n",
    "        self.science_mark = s\n",
    "\n",
    "c1 = school(80,60)    # hear we pass 2 arguments another arguments consider as c1\n",
    "c2 = school(40,30)\n",
    "\n",
    "print(c2.science_mark)\n",
    "print(c1.math_mark)"
   ]
  },
  {
   "cell_type": "code",
   "execution_count": 3,
   "id": "25328002-6e74-49d1-9e74-83509b334547",
   "metadata": {},
   "outputs": [
    {
     "name": "stdout",
     "output_type": "stream",
     "text": [
      "80\n",
      "60\n"
     ]
    }
   ],
   "source": [
    "class school():\n",
    "    def __init__(self,m,s):  # automatically init function calls\n",
    "        self.math_mark = m    # hear we pass 3 arguments\n",
    "        self.science_mark = s\n",
    "\n",
    "c1 = school(80,60)    # hear we pass 2 arguments another arguments consider as c1\n",
    "#c2 = school(40,30)\n",
    "\n",
    "print(c1.math_mark)\n",
    "print(c1.science_mark)"
   ]
  },
  {
   "cell_type": "code",
   "execution_count": 4,
   "id": "e795d44e-ef4e-4475-8109-6071724ef3c1",
   "metadata": {},
   "outputs": [
    {
     "name": "stdout",
     "output_type": "stream",
     "text": [
      "80\n",
      "60\n"
     ]
    }
   ],
   "source": [
    "class school():\n",
    "    def __init__(self,m,s):\n",
    "        self.m = m\n",
    "        self.s = s\n",
    "\n",
    "c1 = school(80,60)\n",
    "\n",
    "print(c1.m)\n",
    "print(c1.s)"
   ]
  },
  {
   "cell_type": "code",
   "execution_count": 5,
   "id": "8f7d2425-96cb-4fbe-a8fc-d460da957463",
   "metadata": {},
   "outputs": [
    {
     "name": "stdout",
     "output_type": "stream",
     "text": [
      "2842888915280\n",
      "2842888925120\n",
      "prathap 24\n",
      "Santhi raju\n"
     ]
    }
   ],
   "source": [
    "class computer:\n",
    "    def __init__(self):\n",
    "        self.name = 'Santhi raju'\n",
    "        self.age = 25\n",
    "\n",
    "c1 = computer()\n",
    "c2 = computer()\n",
    "\n",
    "print(id(c1))\n",
    "print(id(c2))\n",
    "\n",
    "c1.name = 'prathap'\n",
    "c1.age = 24\n",
    "\n",
    "print(c1.name,c1.age)\n",
    "print(c2.name)"
   ]
  },
  {
   "cell_type": "code",
   "execution_count": 7,
   "id": "c7f1edfc-4b79-4a9b-bb24-1053f889c549",
   "metadata": {},
   "outputs": [
    {
     "name": "stdout",
     "output_type": "stream",
     "text": [
      "2842865292720\n",
      "2842888388384\n",
      "prathap\n",
      "24\n",
      "santhi raju\n",
      "25\n"
     ]
    }
   ],
   "source": [
    "class computer:\n",
    "    def __init__(self):\n",
    "        self.name = 'santhi raju'\n",
    "        self.age = 25\n",
    "\n",
    "    def update(self):  #Lets create another object\n",
    "        self.age = 24\n",
    "\n",
    "c1 = computer()\n",
    "c2 = computer()\n",
    "\n",
    "print(id(c1))\n",
    "print(id(c2))\n",
    "\n",
    "c1.name = 'prathap'\n",
    "c1.age = 32\n",
    "\n",
    "c1.update()# when call the update value will change & i am not mentioning\n",
    "\n",
    "print(c1.name)\n",
    "print(c1.age)\n",
    "print(c2.name)\n",
    "print(c2.age)"
   ]
  },
  {
   "cell_type": "markdown",
   "id": "9f9f86d6-72b6-41b1-9c30-db0c37782aa4",
   "metadata": {},
   "source": [
    "# ENCAPSULATION"
   ]
  },
  {
   "cell_type": "markdown",
   "id": "8fe16ae5-1be3-4d6f-8b36-01f6506aad21",
   "metadata": {},
   "source": [
    "- VARIABLES  = VARIABLES are 2 types--(instance variable & class(static) variable)\n",
    "- METHODS    = METHODS are 3 types--(instance method,class method & static method)"
   ]
  },
  {
   "cell_type": "code",
   "execution_count": 8,
   "id": "4e32bec9-a63b-4992-8ba3-9bd926126fa2",
   "metadata": {},
   "outputs": [
    {
     "name": "stdout",
     "output_type": "stream",
     "text": [
      "bmw 10\n",
      "bmw 10\n",
      "2842887877840\n",
      "2842865292720\n"
     ]
    }
   ],
   "source": [
    "class car:\n",
    "    def __init__(self):\n",
    "        self.mil = 10\n",
    "        self.com = 'bmw'\n",
    "\n",
    "c1 = car()\n",
    "c2 = car()\n",
    "\n",
    "print(c1.com, c1.mil)\n",
    "print(c2.com, c2.mil)\n",
    "\n",
    "print(id(c1))\n",
    "print(id(c2))"
   ]
  },
  {
   "cell_type": "markdown",
   "id": "2929232b-25bf-4d37-b780-9c67efdf2605",
   "metadata": {},
   "source": [
    "<img src=\"http://statlearner.org/photos/10-software_design_06.jpg\" id=\"img\" style=\"width: 238px; height: 178px;\">"
   ]
  },
  {
   "cell_type": "markdown",
   "id": "95aa0427-a38c-4b9f-bb5a-e7dd5bd8b922",
   "metadata": {},
   "source": [
    "Encapsulation in Python is the practice of restricting direct access to an object's data and methods, bundling them within a class, and providing controlled access through public interfaces like getters and setters"
   ]
  },
  {
   "cell_type": "code",
   "execution_count": 9,
   "id": "bf72797f-9586-4054-857e-806485f8569c",
   "metadata": {},
   "outputs": [
    {
     "name": "stdout",
     "output_type": "stream",
     "text": [
      "maruthi 20\n",
      "bmw 8\n"
     ]
    }
   ],
   "source": [
    "class car:\n",
    "    def __init__(self):\n",
    "        self.mil = 20\n",
    "        self.com = 'bmw'\n",
    "\n",
    "c1 = car()\n",
    "c2 = car()\n",
    "\n",
    "c2.mil = 8\n",
    "c1.mil = 20\n",
    "c1.com = 'maruthi'\n",
    "\n",
    "print(c1.com, c1.mil)\n",
    "print(c2.com, c2.mil)"
   ]
  },
  {
   "cell_type": "code",
   "execution_count": 10,
   "id": "6d337e7f-5fa9-4c36-b4a4-3bf0c4c1f3d8",
   "metadata": {},
   "outputs": [
    {
     "name": "stdout",
     "output_type": "stream",
     "text": [
      "Benz 15\n",
      "Benz 23\n"
     ]
    }
   ],
   "source": [
    "class car:\n",
    "    def __init__(self):\n",
    "        self.mil = 15\n",
    "        self.com = 'Benz'\n",
    "\n",
    "c1 = car()\n",
    "c2 = car()\n",
    "\n",
    "c2.mil = 23\n",
    "\n",
    "print(c1.com, c1.mil)\n",
    "print(c2.com, c2.mil)"
   ]
  },
  {
   "cell_type": "code",
   "execution_count": 15,
   "id": "96aec98d-79ff-47f9-b597-0ae30a8018e8",
   "metadata": {},
   "outputs": [
    {
     "name": "stdout",
     "output_type": "stream",
     "text": [
      "bmw 12 4\n",
      "bmw 10 4\n"
     ]
    }
   ],
   "source": [
    "class car:\n",
    "    \n",
    "    wheels = 4\n",
    "\n",
    "    def __init__(self):\n",
    "        self.mil = 12\n",
    "        self.com = 'bmw'\n",
    "\n",
    "c1 = car()\n",
    "c2 = car()\n",
    "\n",
    "c2.mil = 10\n",
    "\n",
    "print(c1.com, c1.mil, c1.wheels)\n",
    "print(c2.com, c2.mil, c2.wheels)"
   ]
  },
  {
   "cell_type": "code",
   "execution_count": 16,
   "id": "b65bee3d-8439-4470-bc73-c3809f6d2d30",
   "metadata": {},
   "outputs": [
    {
     "name": "stdout",
     "output_type": "stream",
     "text": [
      "bmw 12 4\n",
      "bmw 10 7\n"
     ]
    }
   ],
   "source": [
    "class car:\n",
    "    \n",
    "    wheels = 4\n",
    "\n",
    "    def __init__(self):\n",
    "        self.mil = 12\n",
    "        self.com = 'bmw'\n",
    "\n",
    "c1 = car()\n",
    "c2 = car()\n",
    "\n",
    "c2.mil = 10\n",
    "c2.wheels = 7\n",
    "\n",
    "print(c1.com, c1.mil, c1.wheels)\n",
    "print(c2.com, c2.mil, c2.wheels)"
   ]
  },
  {
   "cell_type": "code",
   "execution_count": 17,
   "id": "d67701a0-edc4-4ae7-b247-8c0b18366042",
   "metadata": {},
   "outputs": [
    {
     "name": "stdout",
     "output_type": "stream",
     "text": [
      "bmw 12 8\n",
      "bmw 10 8\n"
     ]
    }
   ],
   "source": [
    "class car:\n",
    "    \n",
    "    wheels = 4\n",
    "\n",
    "    def __init__(self):\n",
    "        self.mil = 12\n",
    "        self.com = 'bmw'\n",
    "\n",
    "c1 = car()\n",
    "c2 = car()\n",
    "\n",
    "c2.mil = 10\n",
    "car.wheels = 8\n",
    "\n",
    "print(c1.com, c1.mil, car.wheels)\n",
    "print(c2.com, c2.mil, car.wheels)"
   ]
  },
  {
   "cell_type": "markdown",
   "id": "91e906bf-dcda-49fe-b1b4-0ba73be59467",
   "metadata": {},
   "source": [
    "## METHODS & DIFFERENT TYPES OF METHODS\r\n",
    "- OBJECT HAS 2 THINGS -- VARIABLES & METHODS   \r\n",
    "- VARIABLES ARE STORE THE DATA \r\n",
    "- METHODS WILL PERFORM THE BEHAVIOUR , TO PERFORM SOME OPERATION THATS WHERE METHOD COMES TO THE PICTURE\r\n",
    "- 3 TYPE OF METHODS ( INSTANCE METHOD, CLASS METHOD,  STATIC METHOD)"
   ]
  },
  {
   "cell_type": "code",
   "execution_count": 18,
   "id": "3948560c-75d6-4c39-8560-c09acfdba68b",
   "metadata": {},
   "outputs": [
    {
     "name": "stdout",
     "output_type": "stream",
     "text": [
      "20.0\n",
      "10.0\n"
     ]
    }
   ],
   "source": [
    "class student:\n",
    "    school = 'AMG'   #school is class variable\n",
    "\n",
    "    def __init__(self, m1,m2,m3):  # hear(m1,m2,m3) are instance variables\n",
    "        self.m1 = m1\n",
    "        self.m2 = m2\n",
    "        self.m3 = m3\n",
    "\n",
    "    def avg(self):  #---------> hear this avg is INSTANCE METHOD\n",
    "        return(self.m1+self.m2+self.m3)/3\n",
    "\n",
    "s1 = student(10, 20, 30)   # hear s1 and s2 are objects\n",
    "s2 = student(5, 10, 15)\n",
    "\n",
    "print(s1.avg())\n",
    "print(s2.avg())"
   ]
  },
  {
   "cell_type": "code",
   "execution_count": 19,
   "id": "a42662e1-78cc-446f-8bee-dcb2111cfd44",
   "metadata": {},
   "outputs": [
    {
     "name": "stdout",
     "output_type": "stream",
     "text": [
      "20.0\n",
      "10.0\n",
      "10\n",
      "20\n",
      "30\n",
      "5\n",
      "10\n",
      "15\n"
     ]
    }
   ],
   "source": [
    "class student:\n",
    "    school = 'AMG'   #school is class variable\n",
    "\n",
    "    def __init__(self, m1,m2,m3):  # hear(m1,m2,m3) are instance variables\n",
    "        self.m1 = m1\n",
    "        self.m2 = m2\n",
    "        self.m3 = m3\n",
    "\n",
    "    def avg(self):  #---------> hear this avg is INSTANCE METHOD\n",
    "        return(self.m1+self.m2+self.m3)/3\n",
    "\n",
    "s1 = student(10, 20, 30)   # hear s1 and s2 are objects\n",
    "s2 = student(5, 10, 15)\n",
    "\n",
    "print(s1.avg())\n",
    "print(s2.avg())\n",
    "\n",
    "print(s1.m1)\n",
    "print(s1.m2)\n",
    "print(s1.m3)\n",
    "print(s2.m1)\n",
    "print(s2.m2)\n",
    "print(s2.m3)"
   ]
  },
  {
   "cell_type": "markdown",
   "id": "7ccedfab-57fa-4d94-abdd-239987a8784d",
   "metadata": {},
   "source": [
    "- AVERAGE ONLY WE CALLED AS INSTANCE METHOD \r\n",
    "- IN INSTANCE ONLY WE HAVE 2 TYPES ACCESSOR & MUTATORg)\r\n",
    "- ACCESSOR TYPE - we are only fetching the values (when we fetch the instance variable is called ACCESOR & when we modify the variable then we called as MUTATOR "
   ]
  },
  {
   "cell_type": "markdown",
   "id": "571e019f-0a73-4600-a6b1-8396e1ce156a",
   "metadata": {},
   "source": [
    "# INSTANCE METHOD"
   ]
  },
  {
   "cell_type": "code",
   "execution_count": 20,
   "id": "5e99be71-0541-4116-a23c-e6e0d608af42",
   "metadata": {},
   "outputs": [
    {
     "name": "stdout",
     "output_type": "stream",
     "text": [
      "20.0\n",
      "10.0\n"
     ]
    }
   ],
   "source": [
    "class student: \n",
    "        \n",
    "    school = 'nit'\n",
    "    \n",
    "    def __init__(self, m1, m2, m3) : # hear i pass 3 variable \n",
    "        self.m1 = m1\n",
    "        self.m2 = m2\n",
    "        self.m3 = m3\n",
    "#lets create a method to calculate average of the marks \n",
    "    def avg(self):   # ------> hear this average is INSTANCE METHOD \n",
    "        return (self.m1+self.m2+self.m3)/3\n",
    "    \n",
    "    def get_m1(self):  # getter method (getter - get the value) GETTER only fetch the value -- ACCESOR\n",
    "        return self.m1\n",
    "    def set_m1(self,value): #setter method (setter - set the value) - SETTER only set the value -- MUTATOR\n",
    "        self.m1 = value\n",
    "        \n",
    "# lets create  object hear as we created s1, s2 we created 2 object & also i want to pass value in this  \n",
    "s1 = student(10, 20, 30)\n",
    "s2 = student(5, 15, 10)\n",
    "\n",
    "print(s1.avg())\n",
    "print(s2.avg())"
   ]
  },
  {
   "cell_type": "markdown",
   "id": "4c94e966-3d63-4a4d-b38d-c58f7d5a055e",
   "metadata": {},
   "source": [
    "### CLASS METHOD \r\n",
    "- instance variable can use in instance method\r\n",
    "- school is basically your class variable & lets create class method \r\n",
    "- if you work in instance then you can pass instance method \r\n",
    "- if you work in class then you need to pass class method"
   ]
  },
  {
   "cell_type": "code",
   "execution_count": 21,
   "id": "af66cd09-db19-4413-8cb5-ec1b58e074e9",
   "metadata": {},
   "outputs": [
    {
     "name": "stdout",
     "output_type": "stream",
     "text": [
      "40.0\n",
      "20.0\n",
      "AMG\n",
      "AMG\n"
     ]
    }
   ],
   "source": [
    "class student:\n",
    "    school = 'AMG'\n",
    "\n",
    "    def __init__(self,m1,m2,m3): # hear i pass 3 variables\n",
    "        self.m1 = m1\n",
    "        self.m2 = m2\n",
    "        self.m3 = m3\n",
    "\n",
    "    def avg(self):  #---->hear this avg is instance method\n",
    "        return(self.m1+self.m2+self.m3)/3\n",
    "\n",
    "    def info(cls):   # user need to define cls--for class variable\n",
    "        return cls.school\n",
    "\n",
    "s1 = student(20,40,60)\n",
    "s2 = student(10,20,30)\n",
    "\n",
    "print(s1.avg())\n",
    "print(s2.avg())\n",
    "\n",
    "print(s1.info())\n",
    "print(s2.info())"
   ]
  },
  {
   "cell_type": "code",
   "execution_count": 23,
   "id": "576d83e5-dc27-496e-a4de-e2f195b507dc",
   "metadata": {},
   "outputs": [
    {
     "name": "stdout",
     "output_type": "stream",
     "text": [
      "AMG\n"
     ]
    }
   ],
   "source": [
    "class student:\n",
    "    school = 'AMG'\n",
    "\n",
    "    def __init__(self,m1,m2,m3): # hear i pass 3 variables\n",
    "        self.m1 = m1\n",
    "        self.m2 = m2\n",
    "        self.m3 = m3\n",
    "\n",
    "    def avg(self):  #---->hear this avg is instance method\n",
    "        return(self.m1+self.m2+self.m3)/3\n",
    "        \n",
    "    @classmethod\n",
    "    def info(cls):   # user need to define cls--for class variable\n",
    "        return cls.school\n",
    "\n",
    "s1 = student(20,40,60)\n",
    "s2 = student(10,20,30)\n",
    "\n",
    "#print(s1.avg())\n",
    "#print(s2.avg())\n",
    "\n",
    "#print(s1.info())\n",
    "print(student.info())"
   ]
  },
  {
   "cell_type": "code",
   "execution_count": 29,
   "id": "2f178f25-f121-4ce8-90ff-abc0d581b990",
   "metadata": {},
   "outputs": [
    {
     "name": "stdout",
     "output_type": "stream",
     "text": [
      "40.0\n",
      "20.0\n"
     ]
    },
    {
     "ename": "NameError",
     "evalue": "name 'cls' is not defined",
     "output_type": "error",
     "traceback": [
      "\u001b[1;31m---------------------------------------------------------------------------\u001b[0m",
      "\u001b[1;31mNameError\u001b[0m                                 Traceback (most recent call last)",
      "Cell \u001b[1;32mIn[29], line 21\u001b[0m\n\u001b[0;32m     18\u001b[0m \u001b[38;5;28mprint\u001b[39m(s1\u001b[38;5;241m.\u001b[39mavg())\n\u001b[0;32m     19\u001b[0m \u001b[38;5;28mprint\u001b[39m(s2\u001b[38;5;241m.\u001b[39mavg())\n\u001b[1;32m---> 21\u001b[0m \u001b[38;5;28mprint\u001b[39m(student\u001b[38;5;241m.\u001b[39minfo(\u001b[38;5;28mcls\u001b[39m))\n",
      "\u001b[1;31mNameError\u001b[0m: name 'cls' is not defined"
     ]
    }
   ],
   "source": [
    "class student:\n",
    "    school = 'AMG'\n",
    "\n",
    "    def __init__(self,m1,m2,m3): # hear i pass 3 variables\n",
    "        self.m1 = m1\n",
    "        self.m2 = m2\n",
    "        self.m3 = m3\n",
    "\n",
    "    def avg(self):  #---->hear this avg is instance method\n",
    "        return(self.m1+self.m2+self.m3)/3\n",
    "\n",
    "    def info(cls):   # user need to define cls--for class variable\n",
    "        return cls.school\n",
    "\n",
    "s1 = student(20,40,60)\n",
    "s2 = student(10,20,30)\n",
    "\n",
    "print(s1.avg())\n",
    "print(s2.avg())\n",
    "\n",
    "print(student.info(cls))"
   ]
  },
  {
   "cell_type": "markdown",
   "id": "151818cc-0633-433c-ac99-df207ac46916",
   "metadata": {},
   "source": [
    "### whenever we are create class method normaly we need to special symbol \r\n",
    "### that symbol we called as DECORATOR"
   ]
  },
  {
   "cell_type": "code",
   "execution_count": 30,
   "id": "a4ba99ff-b0d2-4eb4-bd89-3bfe985dbae0",
   "metadata": {},
   "outputs": [
    {
     "name": "stdout",
     "output_type": "stream",
     "text": [
      "43.666666666666664\n",
      "nit\n"
     ]
    }
   ],
   "source": [
    "class student: \n",
    "        \n",
    "    school = 'nit'\n",
    "    \n",
    "    def __init__(self, m1, m2, m3) : # hear i pass 3 variable \n",
    "        self.m1 = m1\n",
    "        self.m2 = m2\n",
    "        self.m3 = m3\n",
    "#lets create a method to calculate average of the marks \n",
    "    def avg(self):   # ------> hear this average is INSTANCE METHOD \n",
    "        return (self.m1+self.m2+self.m3)/3\n",
    "    \n",
    "    @classmethod #=======> Decorator\n",
    "    def info(cls): # user need to define cls - for class variable \n",
    "        return cls.school \n",
    "        \n",
    "# lets create  object hear as we created s1, s2 we created 2 object & also i want to pass value in this  \n",
    "s1 = student(34, 47, 50)\n",
    "s2 = student(89, 32, 12)\n",
    "\n",
    "print(s1.avg())\n",
    "print(student.info())"
   ]
  },
  {
   "cell_type": "code",
   "execution_count": 1,
   "id": "06aa7413-f9c6-4e98-9490-b019b81623d4",
   "metadata": {},
   "outputs": [
    {
     "name": "stdout",
     "output_type": "stream",
     "text": [
      "33.333333333333336 AMG AMG\n",
      "27.333333333333332 AMG AMG\n"
     ]
    }
   ],
   "source": [
    "class student:\n",
    "    school = 'AMG'\n",
    "\n",
    "    def __init__(self,m1,m2,m3):\n",
    "        self.m1 = m1\n",
    "        self.m2 = m2\n",
    "        self.m3 = m3\n",
    "\n",
    "    def avg(self):                # here AVERAGE IS INSTANCE METHOD\n",
    "        return(self.m1+self.m2+self.m3)/3\n",
    "\n",
    "    @classmethod  #-----------> DECORATOR\n",
    "    def info(cls):\n",
    "        return cls.school\n",
    "\n",
    "s1 = student(23,45,32)\n",
    "s2 = student(43,22,17)\n",
    "\n",
    "print(s1.avg(),student.info(),s1.info())\n",
    "print(s2.avg(),student.info(),s2.info())"
   ]
  },
  {
   "cell_type": "code",
   "execution_count": 2,
   "id": "4a99c4a0-61ca-40ed-a9fc-3354a1db86f8",
   "metadata": {},
   "outputs": [
    {
     "name": "stdout",
     "output_type": "stream",
     "text": [
      "33.333333333333336\n",
      "27.333333333333332\n",
      "AMG\n"
     ]
    }
   ],
   "source": [
    "class student:\n",
    "    school = 'AMG'\n",
    "\n",
    "    def __init__(self,m1,m2,m3):\n",
    "        self.m1 = m1\n",
    "        self.m2 = m2\n",
    "        self.m3 = m3\n",
    "\n",
    "    def avg(self):                # here AVERAGE IS INSTANCE METHOD\n",
    "        return(self.m1+self.m2+self.m3)/3\n",
    "\n",
    "    @classmethod  #-----------> DECORATOR\n",
    "    def info(cls):\n",
    "        return cls.school\n",
    "\n",
    "s1 = student(23,45,32)\n",
    "s2 = student(43,22,17)\n",
    "\n",
    "print(s1.avg())\n",
    "print(s2.avg())\n",
    "\n",
    "print(student.info())"
   ]
  },
  {
   "cell_type": "code",
   "execution_count": 3,
   "id": "c0e25826-99e9-4b0a-baa6-b37632af5c91",
   "metadata": {},
   "outputs": [
    {
     "name": "stdout",
     "output_type": "stream",
     "text": [
      "33.333333333333336\n",
      "27.333333333333332\n",
      "AMG\n",
      "This is student class\n"
     ]
    }
   ],
   "source": [
    "class student:\n",
    "    school = 'AMG'\n",
    "\n",
    "    def __init__(self,m1,m2,m3):\n",
    "        self.m1 = m1\n",
    "        self.m2 = m2\n",
    "        self.m3 = m3\n",
    "\n",
    "    def avg(self):                # here AVERAGE IS INSTANCE METHOD\n",
    "        return(self.m1+self.m2+self.m3)/3\n",
    "\n",
    "    @classmethod  #-----------> DECORATOR\n",
    "    def getschool(cls):\n",
    "        return cls.school\n",
    "\n",
    "    @staticmethod # this student class nothing to do any class this is also special charector\n",
    "    def info():\n",
    "        print(\"This is student class\")\n",
    "\n",
    "s1 = student(23,45,32)\n",
    "s2 = student(43,22,17)\n",
    "\n",
    "print(s1.avg())\n",
    "print(s2.avg())\n",
    "\n",
    "print(student.getschool())\n",
    "\n",
    "student.info()"
   ]
  },
  {
   "cell_type": "code",
   "execution_count": 4,
   "id": "946c48a8-891a-4cfe-90b3-327254d8f38b",
   "metadata": {},
   "outputs": [
    {
     "name": "stdout",
     "output_type": "stream",
     "text": [
      "33.333333333333336\n",
      "27.333333333333332\n",
      "This is student class\n"
     ]
    }
   ],
   "source": [
    "class student:\n",
    "    school = 'AMG'\n",
    "\n",
    "    def __init__(self,m1,m2,m3):\n",
    "        self.m1 = m1\n",
    "        self.m2 = m2\n",
    "        self.m3 = m3\n",
    "\n",
    "    def avg(self):                # here AVERAGE IS INSTANCE METHOD\n",
    "        return(self.m1+self.m2+self.m3)/3\n",
    "\n",
    "    #@classmethod  #-----------> DECORATOR\n",
    "    #def getschool(cls):\n",
    "     #   return cls.school\n",
    "\n",
    "    @staticmethod # this student class nothing to do any class this is also special charector\n",
    "    def info():\n",
    "        print(\"This is student class\")\n",
    "\n",
    "s1 = student(23,45,32)\n",
    "s2 = student(43,22,17)\n",
    "\n",
    "print(s1.avg())\n",
    "print(s2.avg())\n",
    "\n",
    "#print(student.getschool())\n",
    "\n",
    "student.info()"
   ]
  },
  {
   "cell_type": "code",
   "execution_count": 6,
   "id": "915b7314-ece2-4f07-aeed-4915963b9123",
   "metadata": {},
   "outputs": [
    {
     "name": "stdout",
     "output_type": "stream",
     "text": [
      "31.25\n",
      "31.25\n",
      "This is student class\n"
     ]
    }
   ],
   "source": [
    "class student:\n",
    "    school = 'AMG'\n",
    "\n",
    "    def __init__(self,m1,m2,m3,m4):\n",
    "        self.m1 = m1\n",
    "        self.m2 = m2\n",
    "        self.m3 = m3\n",
    "        self.m4 = m4\n",
    "\n",
    "    def avg(self):                # here AVERAGE IS INSTANCE METHOD\n",
    "        return(self.m1+self.m2+self.m3+self.m4)/4\n",
    "\n",
    "   # @classmethod  #-----------> DECORATOR\n",
    "    #def getschool(cls):\n",
    "     #   return cls.school\n",
    "\n",
    "    @staticmethod # this student class nothing to do any class this is also special charector\n",
    "    def info():\n",
    "        print(\"This is student class\")\n",
    "\n",
    "s1 = student(23,45,32,25)\n",
    "s2 = student(43,22,17,43)\n",
    "\n",
    "print(s1.avg())\n",
    "print(s2.avg())\n",
    "\n",
    "#print(student.getschool())\n",
    "\n",
    "student.info()"
   ]
  },
  {
   "cell_type": "markdown",
   "id": "67a1889f-71f9-4a68-96ca-ea3e017863d9",
   "metadata": {},
   "source": [
    "# class inside class (INNER CLASS)"
   ]
  },
  {
   "cell_type": "code",
   "execution_count": 7,
   "id": "a0d432ac-0459-489d-b588-a66f7a220196",
   "metadata": {},
   "outputs": [
    {
     "name": "stdout",
     "output_type": "stream",
     "text": [
      "a 1\n",
      "b 2\n"
     ]
    }
   ],
   "source": [
    "class student:\n",
    "    def __init__(self,name,rollno):\n",
    "        self.name = name\n",
    "        self.rollno = rollno\n",
    "\n",
    "s1 = student('a',1)\n",
    "s2 = student('b',2)\n",
    "\n",
    "print(s1.name,s1.rollno)\n",
    "print(s2.name,s2.rollno)"
   ]
  },
  {
   "cell_type": "code",
   "execution_count": 11,
   "id": "946f2241-7522-4239-815f-34409bc6b4f9",
   "metadata": {},
   "outputs": [
    {
     "name": "stdout",
     "output_type": "stream",
     "text": [
      "a 1\n",
      "b\n"
     ]
    }
   ],
   "source": [
    "class student:\n",
    "    def __init__(self,name,rollno):\n",
    "        self.name = name\n",
    "        self.rollno = rollno\n",
    "\n",
    "    def show(self):\n",
    "        print(s1.name, s1.rollno)\n",
    "        print(s2.name)\n",
    "\n",
    "s1 = student('a',1)\n",
    "s2 = student('b',2)\n",
    "\n",
    "#s2.show()\n",
    "s1.show()"
   ]
  },
  {
   "cell_type": "code",
   "execution_count": 13,
   "id": "72ba8342-fa5f-4bbe-956d-68a2fee7e38e",
   "metadata": {},
   "outputs": [
    {
     "name": "stdout",
     "output_type": "stream",
     "text": [
      "a 1\n",
      "b 2\n"
     ]
    }
   ],
   "source": [
    "class student:\n",
    "    def __init__(self,name,rollno):\n",
    "        self.name = name\n",
    "        self.rollno = rollno\n",
    "\n",
    "    def show(self):\n",
    "        print(self.name, self.rollno)\n",
    "\n",
    "s1 = student('a',1)\n",
    "s2 = student('b',2)\n",
    "\n",
    "s1.show()\n",
    "s2.show()"
   ]
  },
  {
   "cell_type": "code",
   "execution_count": 14,
   "id": "02eb3417-74be-4ebc-9415-9529f961792f",
   "metadata": {},
   "outputs": [
    {
     "name": "stdout",
     "output_type": "stream",
     "text": [
      "a 1 lenovo i5 8\n",
      "b 2 hp i7 16\n"
     ]
    }
   ],
   "source": [
    "class student:\n",
    "    def __init__(self,name, rollno,laptop,cpu,ram):\n",
    "        self.name = name\n",
    "        self.rollno = rollno\n",
    "        self.laptop = laptop\n",
    "        self.cpu = cpu\n",
    "        self.ram = ram\n",
    "\n",
    "    def show(self):\n",
    "        print(s1.name, s1.rollno, s1.laptop, s1.cpu, s1.ram)\n",
    "        print(s2.name, s2.rollno, s2.laptop, s2.cpu, s2.ram)\n",
    "\n",
    "s1 = student('a',1,'lenovo','i5',8)\n",
    "s2 = student('b',2, 'hp','i7',16)\n",
    "\n",
    "s2.show()"
   ]
  },
  {
   "cell_type": "code",
   "execution_count": 15,
   "id": "30ef9d76-ec85-4e79-ab2f-5b02e0949396",
   "metadata": {},
   "outputs": [
    {
     "name": "stdout",
     "output_type": "stream",
     "text": [
      "a 1\n",
      "b 2\n"
     ]
    }
   ],
   "source": [
    "class student:\n",
    "    def __init__(self,name,rollno):\n",
    "        self.name = name\n",
    "        self.rollno = rollno\n",
    "\n",
    "    def show(self):\n",
    "        print(self.name, self.rollno)\n",
    "\n",
    "    class laptop:\n",
    "        def __init__(self):\n",
    "            self.brand = 'hp'\n",
    "            self.cpu = 'i5'\n",
    "            self.ram = 8\n",
    "\n",
    "s1 = student('a',1)\n",
    "s2 = student('b',2)\n",
    "\n",
    "s1.show()\n",
    "s2.show()"
   ]
  },
  {
   "cell_type": "code",
   "execution_count": 17,
   "id": "f17c91b1-c8d7-407d-84c4-6b89f8d864c4",
   "metadata": {},
   "outputs": [
    {
     "name": "stdout",
     "output_type": "stream",
     "text": [
      "a 1\n",
      "b 2\n"
     ]
    }
   ],
   "source": [
    "class student:\n",
    "    def __init__(self,name,rollno):\n",
    "        self.name = name\n",
    "        self.rollno = rollno\n",
    "\n",
    "        self.lap = self.laptop()\n",
    "\n",
    "    def show(self):\n",
    "        print(self.name, self.rollno)\n",
    "\n",
    "    class laptop:\n",
    "        def __init__(self):\n",
    "            self.brand = 'hp'\n",
    "            self.cpu = 'i5'\n",
    "            self.ram = 8\n",
    "\n",
    "s1 = student('a',1)\n",
    "s2 = student('b',2)\n",
    "\n",
    "s1.show()\n",
    "s2.show()\n",
    "\n",
    "lap1 = s1.lap.cpu\n",
    "lap2 = s2.lap.ram"
   ]
  },
  {
   "cell_type": "code",
   "execution_count": 20,
   "id": "e8d5150a-0ffc-44da-ba6c-f7a21b6a7d0b",
   "metadata": {},
   "outputs": [
    {
     "name": "stdout",
     "output_type": "stream",
     "text": [
      "a 1\n",
      "b 2\n",
      "i5\n",
      "8\n",
      "hp\n"
     ]
    }
   ],
   "source": [
    "class student:                        #-----> OUTER CLASS\n",
    "    def __init__(self,name,rollno):\n",
    "        self.name = name\n",
    "        self.rollno = rollno\n",
    "\n",
    "        self.lap = self.laptop()\n",
    "\n",
    "    def show(self):\n",
    "        print(self.name, self.rollno)\n",
    "\n",
    "    class laptop:                    #--------->INNER CLASS\n",
    "        def __init__(self):\n",
    "            self.brand = 'hp'\n",
    "            self.cpu = 'i5'\n",
    "            self.ram = 8\n",
    "\n",
    "s1 = student('a',1)\n",
    "s2 = student('b',2)\n",
    "\n",
    "s1.show()\n",
    "s2.show()\n",
    "\n",
    "lap1 = s1.lap.cpu\n",
    "lap2 = s2.lap.ram\n",
    "lap3 = s2.lap.brand\n",
    "\n",
    "print(lap1)\n",
    "print(lap2)\n",
    "print(lap3)"
   ]
  },
  {
   "cell_type": "code",
   "execution_count": 1,
   "id": "01194e96-9a40-4f45-8b6f-7592bae50272",
   "metadata": {},
   "outputs": [
    {
     "name": "stdout",
     "output_type": "stream",
     "text": [
      "ram 1\n",
      "lenovo i5 8\n",
      "shiva 2\n",
      "lenovo i5 8\n"
     ]
    }
   ],
   "source": [
    "# Lets create outside of the class\n",
    "\n",
    "class student:\n",
    "    def __init__(self, name, rollno):\n",
    "        self.name = name\n",
    "        self.rollno = rollno\n",
    "\n",
    "        self.lap = self.laptop()\n",
    "\n",
    "    def show(self):\n",
    "        print(self.name,self.rollno)\n",
    "        self.lap.show()\n",
    "\n",
    "    class laptop:\n",
    "        def __init__(self):\n",
    "            self.brand = 'lenovo'\n",
    "            self.cpu = 'i5'\n",
    "            self.ram = 8\n",
    "\n",
    "        def show(self):\n",
    "            print(self.brand, self.cpu, self.ram)\n",
    "\n",
    "s1 = student('ram',1)\n",
    "s2 = student('shiva',2)\n",
    "\n",
    "s1.show()\n",
    "s2.show()"
   ]
  },
  {
   "cell_type": "markdown",
   "id": "20696621-a13c-4805-a4d3-989cc8237ac1",
   "metadata": {},
   "source": [
    "# Inharitance\r\n",
    "- inharitance is one of the concept from the oops concept\r\n",
    "- real life we have parent - child relationship. so whatever it belongs to parents it belongs to you \r\n",
    "- e.g if the house is you parents house is yours. mobile phone if it belongs to paranets then it belongs to you as well. my fathers phone would be my phone\r\n",
    "- same concept we can implement in programming as well\r\n",
    "- all the language which follow they used oops concept with the help of classes"
   ]
  },
  {
   "cell_type": "markdown",
   "id": "9f6fae0a-c734-40e5-9289-eae204af8de0",
   "metadata": {},
   "source": [
    "<img src=\"https://www.scientecheasy.com/wp-content/uploads/2023/09/types-of-inheritance-in-python.png\" id=\"img\" style=\"width: 533px; height: 384px;\">"
   ]
  },
  {
   "cell_type": "markdown",
   "id": "c6eb30cc-b4f2-43f3-9006-ad6aa1dc8249",
   "metadata": {},
   "source": [
    "### Single inheritance: One child class(sub class) inherits from one parent class(super class)"
   ]
  },
  {
   "cell_type": "code",
   "execution_count": 6,
   "id": "52201106-7794-453f-8810-dbcab2a9cdf8",
   "metadata": {},
   "outputs": [
    {
     "name": "stdout",
     "output_type": "stream",
     "text": [
      "feature1 is hi\n",
      "feature2 is hi\n",
      "feature3 is hello\n",
      "feature4 is hello\n"
     ]
    }
   ],
   "source": [
    "class A():                  #-----> PARENT CLASS\n",
    "    def feature1(self):\n",
    "        print(\"feature1 is hi\")\n",
    "    def feature2(self):\n",
    "        print(\"feature2 is hi\")\n",
    "\n",
    "class B(A):                #-----> CHILD CLASS\n",
    "    def feature3(self):\n",
    "        print(\"feature3 is hello\")\n",
    "    def feature4(self):\n",
    "        print(\"feature4 is hello\")\n",
    "\n",
    "a1 = A()\n",
    "a1.feature1()\n",
    "a1.feature2()\n",
    "\n",
    "b1 = B()\n",
    "b1.feature3()\n",
    "b1.feature4()"
   ]
  },
  {
   "cell_type": "code",
   "execution_count": 7,
   "id": "7637beaf-5935-4fde-a505-84c430a32955",
   "metadata": {},
   "outputs": [
    {
     "name": "stdout",
     "output_type": "stream",
     "text": [
      "Animal speaks\n",
      "Dog swim\n"
     ]
    }
   ],
   "source": [
    "## INHERITANCE EXAMPLE\n",
    "class Animal:\n",
    "    def speak(self):\n",
    "        print(\"Animal speaks\")\n",
    "\n",
    "class Dog(Animal):\n",
    "    def swim(self):\n",
    "        print(\"Dog swim\")\n",
    "\n",
    "dg = Dog()\n",
    "dg.speak()\n",
    "dg.swim()"
   ]
  },
  {
   "cell_type": "markdown",
   "id": "42acc112-9da7-426c-b782-817fd5d90472",
   "metadata": {},
   "source": [
    "## MULTILEVEL INHERITANCE : A Class inherits from a class, which itself inherits from another class\n",
    "- GRANDFATHER== PARENT==CHILD"
   ]
  },
  {
   "cell_type": "code",
   "execution_count": 9,
   "id": "f7de3f2c-03c1-4ee4-816c-6c1675c01111",
   "metadata": {},
   "outputs": [
    {
     "name": "stdout",
     "output_type": "stream",
     "text": [
      "This is the Grandparent class\n",
      "This is the Parent class\n",
      "This is the Child class\n"
     ]
    }
   ],
   "source": [
    "class Grandparent:\n",
    "    def display_grandparent(self):\n",
    "        print(\"This is the Grandparent class\")\n",
    "\n",
    "class Parent(Grandparent):\n",
    "    def display_parent(self):\n",
    "        print(\"This is the Parent class\")\n",
    "\n",
    "class Child(Parent):\n",
    "    def display_child(self):\n",
    "        print(\"This is the Child class\")\n",
    "\n",
    "# Create an object of the Child class\n",
    "child = Child()\n",
    "\n",
    "# Access methods from all classes\n",
    "child.display_grandparent()  # Method from Grandparent class\n",
    "child.display_parent()       # Method from Parent class\n",
    "child.display_child()        # Method from Child class"
   ]
  },
  {
   "cell_type": "code",
   "execution_count": 8,
   "id": "d4cc5ebb-ba2b-437c-ac9f-f4464ae7a49e",
   "metadata": {},
   "outputs": [
    {
     "name": "stdout",
     "output_type": "stream",
     "text": [
      "feature1 is hi\n",
      "feature2 is hi\n",
      "feature3 is hallo\n",
      "feature5 is how are you\n"
     ]
    }
   ],
   "source": [
    "# lets create another class C whhich inherit B\n",
    "\n",
    "class A() : #lets create a class hear it should be employee class or student class & lets create 2 methods\n",
    "    def feature1(self):         # lets take example class A has 2 feature1 & feature 2\n",
    "        print('feature1 is hi')\n",
    "    def feature2(self):\n",
    "        print('feature2 is hi')\n",
    "\n",
    "class B():\n",
    "    def feature3(self):         # lets take example class A has 2 feature1 & feature 2\n",
    "        print('feature3 is hallo')\n",
    "    def feature4(self):\n",
    "        print('feature4 is hallo')\n",
    "\n",
    "class C(B):\n",
    "    def feature5(self):\n",
    "        print('feature5 is how are you')\n",
    "        \n",
    "# the way you access the feature is object \n",
    "\n",
    "a1 = A()  #a1 is the object & A is constructor & using a1 we can call the feature1 & feature 2\n",
    "\n",
    "a1.feature1()\n",
    "a1.feature2()\n",
    "\n",
    "b1 = B()  # INHERITENCE CUZ THE CLASS B IS INHERIT THE CLASS \n",
    "b1.feature3() \n",
    "c1 = C()  # class C is inherit the class A\n",
    "c1.feature5()"
   ]
  },
  {
   "cell_type": "markdown",
   "id": "43b9cbd9-2fe1-4f3b-9425-67b327c0ee15",
   "metadata": {},
   "source": [
    "## MULTIPLE INHERITANCE : Child class inherits more than one parent class\n",
    "- a subclass inherits from multiple super classes"
   ]
  },
  {
   "cell_type": "code",
   "execution_count": 12,
   "id": "94c3ef1d-47cd-4a9e-b0de-80bb63469f60",
   "metadata": {},
   "outputs": [
    {
     "name": "stdout",
     "output_type": "stream",
     "text": [
      "Hello from Parent1\n"
     ]
    }
   ],
   "source": [
    "class Parent1:\n",
    "    def greet(self):\n",
    "        print(\"Hello from Parent1\")\n",
    "\n",
    "class Parent2:\n",
    "    def greet(self):\n",
    "        print(\"Hello from Parent2\")\n",
    "\n",
    "class Child(Parent1, Parent2):\n",
    "    pass\n",
    "\n",
    "child = Child()\n",
    "child.greet()  # Resolves to Parent1's greet method due to MRO"
   ]
  },
  {
   "cell_type": "code",
   "execution_count": 18,
   "id": "9cbc6778-a3b7-4749-9043-4751c232a6ad",
   "metadata": {},
   "outputs": [
    {
     "name": "stdout",
     "output_type": "stream",
     "text": [
      "This animal can fly\n",
      "This animal can swim\n",
      "Duck says quack!\n",
      "<class '__main__.Duck'>\n"
     ]
    }
   ],
   "source": [
    "class FlyingAnimal:\n",
    "    def fly(self):\n",
    "        print(\"This animal can fly\")\n",
    "\n",
    "class SwimmingAnimal:\n",
    "    def swim(self):\n",
    "        print(\"This animal can swim\")\n",
    "\n",
    "class Duck(FlyingAnimal, SwimmingAnimal):\n",
    "    def quack(self):\n",
    "        print(\"Duck says quack!\")\n",
    "\n",
    "# Create an object of the Duck class\n",
    "duck = Duck()\n",
    "\n",
    "duck.fly()   # From FlyingAnimal\n",
    "duck.swim()  # From SwimmingAnimal\n",
    "duck.quack()\n",
    "\n",
    "print(Duck)"
   ]
  },
  {
   "cell_type": "code",
   "execution_count": 23,
   "id": "a5864eb8-cbb1-4057-afde-357287728bcf",
   "metadata": {},
   "outputs": [
    {
     "name": "stdout",
     "output_type": "stream",
     "text": [
      "Display from Parent1\n",
      "Display from Child\n"
     ]
    }
   ],
   "source": [
    "class Parent1:\n",
    "    def display(self):\n",
    "        print(\"Display from Parent1\")\n",
    "\n",
    "class Parent2:\n",
    "    def display(self):\n",
    "        print(\"Display from Parent2\")\n",
    "\n",
    "class Child(Parent1, Parent2):\n",
    "    def display(self):\n",
    "        super().display()  # Calls Parent1's method due to MRO\n",
    "        print(\"Display from Child\")\n",
    "\n",
    "# Create an object of the Child class\n",
    "child = Child()\n",
    "child.display()"
   ]
  },
  {
   "cell_type": "markdown",
   "id": "3c8dddd2-1cb4-44c4-867b-8715075cc630",
   "metadata": {},
   "source": [
    "## HEIRACHICAL INHERITANCE\n",
    "- Hierarchical inheritance in Python occurs when multiple child classes inherit from a single parent class. This type of inheritance allows the child classes to reuse the properties and methods of the parent class, while they can also define their own unique properties or methods."
   ]
  },
  {
   "cell_type": "code",
   "execution_count": 1,
   "id": "44b1470e-6032-4bc6-9f25-1062dd4d1a2a",
   "metadata": {},
   "outputs": [
    {
     "name": "stdout",
     "output_type": "stream",
     "text": [
      "Dog barks.\n",
      "Cat meows.\n",
      "Cow moos.\n"
     ]
    }
   ],
   "source": [
    "# Parent class                                 ## ---> One parent class inherits multiple child classes\n",
    "class Animal:\n",
    "    def speak(self):\n",
    "        print(\"This is an animal sound.\")\n",
    "\n",
    "# Child class 1\n",
    "class Dog(Animal):\n",
    "    def speak(self):\n",
    "        print(\"Dog barks.\")\n",
    "\n",
    "# Child class 2\n",
    "class Cat(Animal):\n",
    "    def speak(self):\n",
    "        print(\"Cat meows.\")\n",
    "\n",
    "# Child class 3\n",
    "class Cow(Animal):\n",
    "    def speak(self):\n",
    "        print(\"Cow moos.\")\n",
    "\n",
    "# Instantiate objects\n",
    "dog = Dog()\n",
    "cat = Cat()\n",
    "cow = Cow()\n",
    "\n",
    "# Call methods\n",
    "dog.speak()  # Output: Dog barks.\n",
    "cat.speak()  # Output: Cat meows.\n",
    "cow.speak()  # Output: Cow moos."
   ]
  },
  {
   "cell_type": "markdown",
   "id": "d87caec5-a7a1-4202-b5a2-4916e616fc53",
   "metadata": {},
   "source": [
    "## Key Points:\n",
    "- Single Parent: All the child classes inherit from the same parent class.\n",
    "- Overriding: Each child class can override the parent class methods if needed.\n",
    "- Reusability: The parent class's functionality is shared among all child classes.\n"
   ]
  },
  {
   "cell_type": "markdown",
   "id": "c4985360-ae59-4c46-b4ff-48a5466055d8",
   "metadata": {},
   "source": [
    "## Constructor inheritance"
   ]
  },
  {
   "cell_type": "markdown",
   "id": "378674b7-4705-40a2-8cf0-0b3c70bf83d5",
   "metadata": {},
   "source": [
    "### In Python, when inheritance is used, the child class can inherit the constructor (__init__ method) of the parent class. You can call the parent class constructor explicitly using super() or by directly calling the parent class name. This allows you to initialize properties defined in the parent class within the child class."
   ]
  },
  {
   "cell_type": "code",
   "execution_count": 2,
   "id": "6e10f85e-a244-4d10-8969-dbb48e0299a4",
   "metadata": {},
   "outputs": [],
   "source": [
    "class A():\n",
    "    def student1(self):\n",
    "        print(\"feature1 is hi\")\n",
    "    def student2(self):\n",
    "        print(\"feature2 is hi\")\n",
    "\n",
    "class B():\n",
    "    def student3(self):\n",
    "        print(\"feature3 is hello\")\n",
    "    def student4(self):\n",
    "        print(\"feature4 is hello\")\n",
    "\n",
    "a1 = B()"
   ]
  },
  {
   "cell_type": "code",
   "execution_count": 3,
   "id": "7288ffaa-2c28-4f22-b2b7-9f398d60cc5c",
   "metadata": {},
   "outputs": [
    {
     "name": "stdout",
     "output_type": "stream",
     "text": [
      "in a init\n",
      "in a init\n"
     ]
    }
   ],
   "source": [
    "class A():\n",
    "    def __init__(self):\n",
    "        print(\"in a init\")   # special charecter\n",
    "    def student1(self):\n",
    "        print(\"feature1 is hi\")\n",
    "    def student2(self):\n",
    "        print(\"feature2 is hi\")\n",
    "\n",
    "class B(A):\n",
    "    def student3(self):\n",
    "        print(\"feature3 is hello\")\n",
    "    def student4(self):\n",
    "        print(\"feature4 is hello\")\n",
    "\n",
    "a1 = A()  # A is the constructor\n",
    "b1 = B()"
   ]
  },
  {
   "cell_type": "code",
   "execution_count": 4,
   "id": "9dc7488e-3167-4954-84b9-152e9ab91f4a",
   "metadata": {},
   "outputs": [
    {
     "name": "stdout",
     "output_type": "stream",
     "text": [
      "in a init\n"
     ]
    }
   ],
   "source": [
    "class A():\n",
    "    def __init__(self):\n",
    "        print(\"in a init\")   # special charecter\n",
    "    def student1(self):\n",
    "        print(\"feature1 is hi\")\n",
    "    def student2(self):\n",
    "        print(\"feature2 is hi\")\n",
    "\n",
    "class B(A):\n",
    "    def student3(self):\n",
    "        print(\"feature3 is hello\")\n",
    "    def student4(self):\n",
    "        print(\"feature4 is hello\")\n",
    "\n",
    "a1 = B()  # A is the constructor"
   ]
  },
  {
   "cell_type": "markdown",
   "id": "72937cd8-65b9-4b1f-9ea8-dfaabd63cf3f",
   "metadata": {},
   "source": [
    "- Sub class can access all the features of Super class But\n",
    "- Super class cannot access any features of sub class"
   ]
  },
  {
   "cell_type": "code",
   "execution_count": 5,
   "id": "fda67455-7248-4bdd-8bfa-59ada5849aae",
   "metadata": {},
   "outputs": [
    {
     "name": "stdout",
     "output_type": "stream",
     "text": [
      "in the A init\n",
      "in the B init\n"
     ]
    }
   ],
   "source": [
    "class A():\n",
    "    def __init__(self):\n",
    "        print(\"in the A init\")   # special charecter\n",
    "    def student1(self):\n",
    "        print(\"feature1 is hi\")\n",
    "    def student2(self):\n",
    "        print(\"feature2 is hi\")\n",
    "\n",
    "class B(A):\n",
    "    def __init__(self):\n",
    "        print(\"in the B init\")\n",
    "    def student3(self):\n",
    "        print(\"feature3 is hello\")\n",
    "    def student4(self):\n",
    "        print(\"feature4 is hello\")\n",
    "\n",
    "a1 = A()  # A is the constructor\n",
    "b1 = B()"
   ]
  },
  {
   "cell_type": "code",
   "execution_count": 7,
   "id": "f07848e7-54ed-4ca4-a23d-c71e1f25b260",
   "metadata": {},
   "outputs": [
    {
     "name": "stdout",
     "output_type": "stream",
     "text": [
      "in the B init\n"
     ]
    }
   ],
   "source": [
    "class A():\n",
    "    def __init__(self):\n",
    "        print(\"in the A init\")   # special charecter\n",
    "    def student1(self):\n",
    "        print(\"feature1 is hi\")\n",
    "    def student2(self):\n",
    "        print(\"feature2 is hi\")\n",
    "\n",
    "class B(A):\n",
    "    def __init__(self):\n",
    "        print(\"in the B init\")\n",
    "    def student3(self):\n",
    "        print(\"feature3 is hello\")\n",
    "    def student4(self):\n",
    "        print(\"feature4 is hello\")\n",
    "\n",
    "a1 = B()"
   ]
  },
  {
   "cell_type": "code",
   "execution_count": 8,
   "id": "a05e06bc-47db-48ba-a01f-b7192fad1562",
   "metadata": {},
   "outputs": [
    {
     "name": "stdout",
     "output_type": "stream",
     "text": [
      "in the A init\n",
      "in the B init\n"
     ]
    }
   ],
   "source": [
    "class A() : \n",
    "    def __init__(self):\n",
    "        print('in the A init')\n",
    "    def feature1(self):         # lets take example class A has 2 feature1 & feature 2\n",
    "        print('feature1 is hi')\n",
    "    def feature2(self):\n",
    "        print('feature2 is hi')\n",
    "\n",
    "class B(A):\n",
    "    def __init__(self):\n",
    "        super().__init__() #when we pass super() == print parent class information as well \n",
    "        print('in the B init')\n",
    "    def feature3(self):         # lets take example class A has 2 feature1 & feature 2\n",
    "        print('feature3 is hallo')\n",
    "    def feature4(self):\n",
    "        print('feature4 is hallo')\n",
    "        \n",
    "a1 = B()"
   ]
  },
  {
   "cell_type": "code",
   "execution_count": 10,
   "id": "2f157472-3e9f-4a15-a336-24cd0886267b",
   "metadata": {},
   "outputs": [
    {
     "name": "stdout",
     "output_type": "stream",
     "text": [
      "in the B init\n"
     ]
    }
   ],
   "source": [
    "class A() : \n",
    "    def __init__(self):\n",
    "        print('in the A init')\n",
    "    def feature1(self):         # lets take example class A has 2 feature1 & feature 2\n",
    "        print('feature1 is hi')\n",
    "    def feature2(self):\n",
    "        print('feature2 is hi')\n",
    "\n",
    "class B():\n",
    "    def __init__(self):\n",
    "        super().__init__() #when we pass super() == print parent class information as well \n",
    "        print('in the B init')\n",
    "    def feature3(self):         # lets take example class A has 2 feature1 & feature 2\n",
    "        print('feature3 is hallo')\n",
    "    def feature4(self):\n",
    "        print('feature4 is hallo')\n",
    "        \n",
    "a1 = B()"
   ]
  },
  {
   "cell_type": "code",
   "execution_count": 12,
   "id": "a163fb4f-fa8b-48d0-b131-c59ef053737a",
   "metadata": {},
   "outputs": [
    {
     "name": "stdout",
     "output_type": "stream",
     "text": [
      "in the C init\n",
      "in the C init\n"
     ]
    }
   ],
   "source": [
    "class A():\n",
    "    def __init__(self):\n",
    "        print(\"in the A init\")\n",
    "    def feature1(self):\n",
    "        print(\"feature1 is hi\")\n",
    "    def feature2(self):\n",
    "        print(\"feature2 is hi\")\n",
    "\n",
    "class B():\n",
    "    def __init__(self):\n",
    "        print(\"in the B init\")\n",
    "    def feature3(self):\n",
    "        print(\"feature3 is hello\")\n",
    "    def feature4(self):\n",
    "        print(\"feature4 is hello\")\n",
    "\n",
    "class C(A,B):\n",
    "    def __init__(self):\n",
    "        print(\"in the C init\")\n",
    "\n",
    "a1 = C()\n",
    "b1 = C()"
   ]
  },
  {
   "cell_type": "code",
   "execution_count": 14,
   "id": "981835b1-dea0-458d-a04f-c3a297472a6a",
   "metadata": {},
   "outputs": [
    {
     "name": "stdout",
     "output_type": "stream",
     "text": [
      "in the A init\n",
      "in the C init\n"
     ]
    }
   ],
   "source": [
    "class A():\n",
    "    def __init__(self):\n",
    "        print(\"in the A init\")\n",
    "    def feature1(self):\n",
    "        print(\"feature1 is hi\")\n",
    "    def feature2(self):\n",
    "        print(\"feature2 is hi\")\n",
    "\n",
    "class B():\n",
    "    def __init__(self):\n",
    "        print(\"in the B init\")\n",
    "    def feature3(self):\n",
    "        print(\"feature3 is hello\")\n",
    "    def feature4(self):\n",
    "        print(\"feature4 is hello\")\n",
    "\n",
    "class C(A,B):\n",
    "    def __init__(self):\n",
    "        super().__init__()\n",
    "        print(\"in the C init\")\n",
    "\n",
    "a1 = C()"
   ]
  },
  {
   "cell_type": "markdown",
   "id": "07dea79c-45e4-4ade-b2e0-ce79476d5dfb",
   "metadata": {},
   "source": [
    "## METHOD RESOLUTION ORDER(MRO)\n",
    "- in the above code if we called the C class but we get class A & didnt get class B which is not coreect \r\n",
    "- so thats why have concept of MRO (Method Resolution orderg)\r\n",
    "- what is MRO whenever we have multiple inheritence it always start from left to right"
   ]
  },
  {
   "cell_type": "code",
   "execution_count": 15,
   "id": "9daf36e3-0da0-4162-b66e-7a02dea3c690",
   "metadata": {},
   "outputs": [
    {
     "name": "stdout",
     "output_type": "stream",
     "text": [
      "in the A init\n",
      "in the C init\n"
     ]
    }
   ],
   "source": [
    "class A():\n",
    "    def __init__(self):\n",
    "        print('in the A init')\n",
    "    def feature1(self):         # lets take example class A has 2 feature1 & feature 2\n",
    "        print('feature 1-A is hi') #class A & class B hase same method\n",
    "    def feature2(self):\n",
    "        print('feature2 is hi')\n",
    "\n",
    "class B():\n",
    "    def __init__(self):\n",
    "        print('in the B init')\n",
    "    def feature1(self):         # lets take example class A has 2 feature1 & feature 1\n",
    "        print('feature 3-B is hallo')\n",
    "    def feature4(self):\n",
    "        print('feature4 is hallo')\n",
    "        \n",
    "class C(A,B):\n",
    "    def __init__(self):\n",
    "        super().__init__()\n",
    "        print('in the C init')\n",
    "                \n",
    "a1 = C()"
   ]
  },
  {
   "cell_type": "code",
   "execution_count": 16,
   "id": "33669938-974e-40b9-824e-7419ed2919d7",
   "metadata": {},
   "outputs": [
    {
     "name": "stdout",
     "output_type": "stream",
     "text": [
      "in the A init\n",
      "in the C init\n"
     ]
    }
   ],
   "source": [
    "class A():\n",
    "    def __init__(self):\n",
    "        print('in the A init')\n",
    "    def feature1(self):         # lets take example class A has 2 feature1 & feature 2\n",
    "        print('feature 1-A is hi') #class A & class B hase same method\n",
    "    def feature2(self):\n",
    "        print('feature2 is hi')\n",
    "\n",
    "class B():\n",
    "    def __init__(self):\n",
    "        print('in the B init')\n",
    "    def feature1(self):         # lets take example class A has 2 feature1 & feature 1\n",
    "        print('feature 3-B is hallo')\n",
    "    def feature4(self):\n",
    "        print('feature4 is hallo')\n",
    "        \n",
    "class C(A,B):\n",
    "    def __init__(self):\n",
    "        super().__init__()\n",
    "        print('in the C init')\n",
    "    def feat(self):\n",
    "        super().feature1()\n",
    "                \n",
    "a1 = C()"
   ]
  },
  {
   "cell_type": "markdown",
   "id": "e4886092-c59e-40f1-9894-042c998b0fda",
   "metadata": {},
   "source": [
    "## Key Concepts:\n",
    "- super():\n",
    "\n",
    "Used to call the constructor (or other methods) of the parent class.\n",
    "Ensures that the parent class properties are initialized in the child class.\n",
    "- Extending the Constructor:\n",
    "\n",
    "Child classes can extend the functionality of the parent's constructor by adding their own attributes.\n",
    "- Overriding:\n",
    "\n",
    "The child class can override the methods of the parent class, but it can still call the parent class's methods using super().\n"
   ]
  },
  {
   "cell_type": "markdown",
   "id": "9337e224-2323-4059-a7f8-65f4853d1f34",
   "metadata": {},
   "source": [
    "## POLYMMORPHISM\n",
    "- Polymorphism is one of the core concepts in Object-Oriented Programming (OOP), and in Python, it refers to the ability of different objects to respond in a unique way to the same method or operation. Polymorphism allows for flexibility and reusability of code, as a single interface can represent different underlying forms (data types or classes)."
   ]
  },
  {
   "cell_type": "markdown",
   "id": "d28c50af-942e-4037-a405-b621b5248efa",
   "metadata": {},
   "source": [
    "<img src=\"https://media.geeksforgeeks.org/wp-content/uploads/20200907135837/poly.PNG\" id=\"img\" style=\"width: 277px; height: 300px;\">"
   ]
  },
  {
   "cell_type": "markdown",
   "id": "bf64cad0-5164-4e51-9457-6afa4887a0cf",
   "metadata": {},
   "source": [
    "## DUCK TYPING\n",
    "<img src=\"https://i.ytimg.com/vi/WM1x2L1dFJk/maxresdefault.jpg\" id=\"img\" style=\"width: 300px; height: 230px;\">"
   ]
  },
  {
   "cell_type": "code",
   "execution_count": 18,
   "id": "b9560ccc-9e9d-489f-80a3-3224086f4c9b",
   "metadata": {},
   "outputs": [
    {
     "name": "stdout",
     "output_type": "stream",
     "text": [
      "30.25\n",
      "25\n"
     ]
    }
   ],
   "source": [
    "def square(x):\n",
    "    return x * x\n",
    "\n",
    "print(square(5.5))\n",
    "print(square(5))"
   ]
  },
  {
   "cell_type": "code",
   "execution_count": 20,
   "id": "8629bb99-dca3-41e2-b8d8-41c940b636d1",
   "metadata": {},
   "outputs": [
    {
     "name": "stdout",
     "output_type": "stream",
     "text": [
      "i am duck & i can swim\n",
      "quack quack\n"
     ]
    }
   ],
   "source": [
    "class duck:\n",
    "    def swim(self):\n",
    "        print(\"i am duck & i can swim\")\n",
    "    def speaks(self):\n",
    "        print(\"quack quack\")\n",
    "\n",
    "class dog:\n",
    "    def swim(self):\n",
    "        print(\"i am dog & i can swim\")\n",
    "    def speaks(self):\n",
    "        print(\"woof woof\")\n",
    "\n",
    "def display(duck):\n",
    "    duck.swim()\n",
    "    duck.speaks()\n",
    "\n",
    "d = duck()\n",
    "display(d)"
   ]
  },
  {
   "cell_type": "code",
   "execution_count": 21,
   "id": "6f38f6f6-6e60-4bd7-bbe8-f149dc3c188a",
   "metadata": {},
   "outputs": [
    {
     "name": "stdout",
     "output_type": "stream",
     "text": [
      "i am dog & i can swim\n",
      "woof woof\n"
     ]
    }
   ],
   "source": [
    "class duck:                                    ##------> every class can take 2 things\n",
    "    def swim(self):\n",
    "        print(\"i am duck & i can swim\")\n",
    "    def speaks(self):\n",
    "        print(\"quack quack\")\n",
    "\n",
    "class dog:\n",
    "    def swim(self):\n",
    "        print(\"i am dog & i can swim\")\n",
    "    def speaks(self):\n",
    "        print(\"woof woof\")\n",
    "\n",
    "def display(duck):\n",
    "    duck.swim()\n",
    "    duck.speaks()\n",
    "\n",
    "d = duck()\n",
    "\n",
    "dg = dog()\n",
    "\n",
    "display(dg)"
   ]
  },
  {
   "cell_type": "code",
   "execution_count": 24,
   "id": "147aedf7-7e71-4ce3-9579-96ba8a556d57",
   "metadata": {},
   "outputs": [
    {
     "name": "stdout",
     "output_type": "stream",
     "text": [
      "i need to learn swimming\n",
      "i am prathap\n"
     ]
    }
   ],
   "source": [
    "class duck:                                    ##------> every class can take 2 things\n",
    "    def swim(self):\n",
    "        print(\"i am duck & i can swim\")\n",
    "    def speaks(self):\n",
    "        print(\"quack quack\")\n",
    "\n",
    "class dog:\n",
    "    def swim(self):\n",
    "        print(\"i am dog & i can swim\")\n",
    "    def speaks(self):\n",
    "        print(\"woof woof\")\n",
    "\n",
    "class person:\n",
    "    def speaks(self):\n",
    "        print(\"i am prathap\")\n",
    "    def swim(self):\n",
    "        print(\"i need to learn swimming\")\n",
    "\n",
    "def display(obj):\n",
    "    obj.swim()\n",
    "    obj.speaks()\n",
    "    #obj.person()\n",
    "\n",
    "d = duck()\n",
    "dg = dog()\n",
    "p = person()\n",
    "\n",
    "display(p)"
   ]
  },
  {
   "cell_type": "code",
   "execution_count": 25,
   "id": "24d8acf4-719d-4227-902f-5ff0daa1d12a",
   "metadata": {},
   "outputs": [
    {
     "name": "stdout",
     "output_type": "stream",
     "text": [
      "compiling\n",
      "running\n"
     ]
    }
   ],
   "source": [
    "class jupyter:\n",
    "    def execute(self):\n",
    "        print('compiling')\n",
    "        print('running')\n",
    "class laptop:\n",
    "    def code(self, ide):\n",
    "        ide.execute() \n",
    "\n",
    "ide = jupyter()\n",
    "lap1 = laptop()\n",
    "\n",
    "lap1.code(ide)"
   ]
  },
  {
   "cell_type": "code",
   "execution_count": 26,
   "id": "ec4448fe-749a-4900-b031-d23f5c85aaf1",
   "metadata": {},
   "outputs": [
    {
     "name": "stdout",
     "output_type": "stream",
     "text": [
      "spell check\n",
      "other check\n",
      "compiling\n",
      "running\n"
     ]
    }
   ],
   "source": [
    "class jupyter:\n",
    "    def execute(self):\n",
    "        print('compiling')\n",
    "        print('running')\n",
    "        \n",
    "class spyder:\n",
    "    def execute(self):\n",
    "        print('spell check')\n",
    "        print('other check')\n",
    "        print('compiling')\n",
    "        print('running')\n",
    "        \n",
    "class laptop:\n",
    "    def code(self, ide): \n",
    "        ide.execute()    # and it does not matter \n",
    "\n",
    "ide = spyder() \n",
    "lap1 = laptop()\n",
    "\n",
    "lap1.code(ide)"
   ]
  },
  {
   "cell_type": "code",
   "execution_count": 27,
   "id": "e014edcc-ef4f-4f69-8de4-698f330b6076",
   "metadata": {},
   "outputs": [
    {
     "name": "stdout",
     "output_type": "stream",
     "text": [
      "Woof!\n",
      "Meow!\n",
      "Quack!\n"
     ]
    }
   ],
   "source": [
    "class Dog:\n",
    "    def speak(self):\n",
    "        return \"Woof!\"\n",
    "\n",
    "class Cat:\n",
    "    def speak(self):\n",
    "        return \"Meow!\"\n",
    "\n",
    "class Duck:\n",
    "    def speak(self):\n",
    "        return \"Quack!\"\n",
    "\n",
    "def animal_sound(animal):\n",
    "    return animal.speak()\n",
    "\n",
    "# Using duck typing\n",
    "dog = Dog()\n",
    "cat = Cat()\n",
    "duck = Duck()\n",
    "\n",
    "print(animal_sound(dog))  # Output: Woof!\n",
    "print(animal_sound(cat))  # Output: Meow!\n",
    "print(animal_sound(duck)) "
   ]
  },
  {
   "cell_type": "markdown",
   "id": "a87999a9-00e3-4a4b-946f-7a493121f467",
   "metadata": {},
   "source": [
    "## OPERATOR OVERLOADING"
   ]
  },
  {
   "cell_type": "markdown",
   "id": "b676a9d0-8d20-4b15-8874-a0cfa85353b0",
   "metadata": {},
   "source": [
    "<img src=\"https://i.ytimg.com/vi/svWKZSWl_F4/maxresdefault.jpg\" id=\"img\" style=\"width: 300px; height: 256px;\">"
   ]
  },
  {
   "cell_type": "code",
   "execution_count": 29,
   "id": "a7a61da7-a368-4cf6-ae23-430e1a0184d9",
   "metadata": {},
   "outputs": [
    {
     "name": "stdout",
     "output_type": "stream",
     "text": [
      "11\n"
     ]
    }
   ],
   "source": [
    "a = 5    # hear 5 and 6 are operands and '+' is operator\n",
    "b = 6\n",
    "print(a+b)"
   ]
  },
  {
   "cell_type": "code",
   "execution_count": 30,
   "id": "648cb40f-c924-4d6d-a9c4-865ee4f2a638",
   "metadata": {},
   "outputs": [
    {
     "name": "stdout",
     "output_type": "stream",
     "text": [
      "<class 'int'>\n",
      "11\n"
     ]
    }
   ],
   "source": [
    "a,b = 5,6\n",
    "print(type(a))\n",
    "print(a+b)"
   ]
  },
  {
   "cell_type": "code",
   "execution_count": 31,
   "id": "d4d87d7f-a8d0-4d0b-9117-bbfa8b2101af",
   "metadata": {},
   "outputs": [
    {
     "data": {
      "text/plain": [
       "11"
      ]
     },
     "execution_count": 31,
     "metadata": {},
     "output_type": "execute_result"
    }
   ],
   "source": [
    "int.__add__(a,b)"
   ]
  },
  {
   "cell_type": "code",
   "execution_count": 32,
   "id": "1ecda1df-4e8f-4bd1-a2c3-80a203e3f0e7",
   "metadata": {},
   "outputs": [
    {
     "data": {
      "text/plain": [
       "-1"
      ]
     },
     "execution_count": 32,
     "metadata": {},
     "output_type": "execute_result"
    }
   ],
   "source": [
    "int.__sub__(a,b)"
   ]
  },
  {
   "cell_type": "code",
   "execution_count": 33,
   "id": "1b3976f6-0cc1-499d-b491-219e40f52eea",
   "metadata": {},
   "outputs": [
    {
     "data": {
      "text/plain": [
       "30"
      ]
     },
     "execution_count": 33,
     "metadata": {},
     "output_type": "execute_result"
    }
   ],
   "source": [
    "int.__mul__(a,b)"
   ]
  },
  {
   "cell_type": "code",
   "execution_count": 34,
   "id": "d8d05174-1119-4f75-98f3-24baf8873822",
   "metadata": {},
   "outputs": [
    {
     "name": "stdout",
     "output_type": "stream",
     "text": [
      "<class 'int'>\n",
      "11\n",
      "11\n"
     ]
    }
   ],
   "source": [
    "a,b = 5,6\n",
    "print(type(a))\n",
    "print(a+b)\n",
    "\n",
    "print(int.__add__(a,b))"
   ]
  },
  {
   "cell_type": "code",
   "execution_count": 35,
   "id": "7e6c4dcd-74a1-4667-82a4-6d62cdace0bc",
   "metadata": {},
   "outputs": [
    {
     "name": "stdout",
     "output_type": "stream",
     "text": [
      "23\n"
     ]
    }
   ],
   "source": [
    "c,d = '2','3'\n",
    "print(c+d)"
   ]
  },
  {
   "cell_type": "code",
   "execution_count": 36,
   "id": "b56a9681-fb76-4034-ac1e-380a1e08a049",
   "metadata": {},
   "outputs": [
    {
     "name": "stdout",
     "output_type": "stream",
     "text": [
      "23\n"
     ]
    }
   ],
   "source": [
    "print(str.__add__(c,d))"
   ]
  },
  {
   "cell_type": "markdown",
   "id": "79b2b5fb-cb4e-490d-baf0-a52d7e49c1d1",
   "metadata": {},
   "source": [
    "## Magic methods\n",
    "when the user enter (+) means - internally it calls __add__() method\r\n",
    "(-) means __sub__() method ||  (*) __mul__() methods\r\n",
    "all of this called as magic method\n",
    "<img src=\"https://tse3.mm.bing.net/th?id=OIP.lXNhLN-BUiZhhwZuj2YjjQHaFj&amp;pid=Api&amp;P=0&amp;h=180\" id=\"img\" style=\"width: 278px; height: 245px;\">"
   ]
  },
  {
   "cell_type": "code",
   "execution_count": 1,
   "id": "776d3a38-2eb2-4e98-9bd4-fbcad0f76de8",
   "metadata": {},
   "outputs": [
    {
     "name": "stdout",
     "output_type": "stream",
     "text": [
      "140\n",
      "160\n"
     ]
    }
   ],
   "source": [
    "class student:\n",
    "    def __init__(self,m1,m2):\n",
    "        self.m1 = m1\n",
    "        self.m2 = m2\n",
    "        \n",
    "    def __add__(self, other): ## WE DEFINE THE ADD METHOD . THIS CONCEPT IS CALLED OPERATOR OVERLOADING\n",
    "        m1 = self.m1 + other.m1\n",
    "        m2 = self.m2 + other.m2\n",
    "        s3 = student(m1,m2)\n",
    "        \n",
    "        return s3   \n",
    " \n",
    "s1 = student(60,70)\n",
    "s2 = student(80,90)\n",
    "\n",
    "s3 = s1 + s2 \n",
    "# when we create add method in above behind the memory s1 & s2 will convert to self & other respectivly\n",
    "print(s3.m1)\n",
    "print(s3.m2)"
   ]
  },
  {
   "cell_type": "code",
   "execution_count": 3,
   "id": "4c491f2e-fd48-43c3-a553-24282955b57f",
   "metadata": {},
   "outputs": [
    {
     "name": "stdout",
     "output_type": "stream",
     "text": [
      "s1 wins\n"
     ]
    }
   ],
   "source": [
    "class student:\n",
    "    def __init__(self,m1,m2):\n",
    "        self.m1 = m1\n",
    "        self.m2 = m2\n",
    "\n",
    "    def __add__(self, other): # WE DEFINE THE ADD METHOD.THIS CONCEPT IS CALLED OPERATOR OVERLOADING\n",
    "        m1 = self.m1 + other.m1\n",
    "        m2 = self.m2 + other.m2\n",
    "        s3 = student(m1,m2)\n",
    "\n",
    "        return(s3)\n",
    "    def __gt__(self, other):\n",
    "        r1 = self.m1 + self.m2\n",
    "        r2 = other.m1 + other.m2\n",
    "        if r1>r2:\n",
    "            return True\n",
    "        else:\n",
    "            return False\n",
    "\n",
    "s1 = student(240,70)\n",
    "s2 = student(80,90)\n",
    "\n",
    "s3 = s1+s2\n",
    "# we can also compare 2 objects are > or less then\n",
    "if s1>s2:\n",
    "    print('s1 wins')\n",
    "\n",
    "else:\n",
    "    print('s2 wins')"
   ]
  },
  {
   "cell_type": "code",
   "execution_count": 4,
   "id": "23475c3b-6b9e-43fa-a187-412247e75fca",
   "metadata": {},
   "outputs": [
    {
     "name": "stdout",
     "output_type": "stream",
     "text": [
      "s1 wins\n",
      "8\n",
      "<__main__.student object at 0x0000022044505610>\n"
     ]
    }
   ],
   "source": [
    "class student:\n",
    "    def __init__(self,m1,m2):\n",
    "        self.m1 = m1\n",
    "        self.m2 = m2\n",
    "\n",
    "    def __add__(self, other): # WE DEFINE THE ADD METHOD.THIS CONCEPT IS CALLED OPERATOR OVERLOADING\n",
    "        m1 = self.m1 + other.m1\n",
    "        m2 = self.m2 + other.m2\n",
    "        s3 = student(m1,m2)\n",
    "\n",
    "        return(s3)\n",
    "    def __gt__(self, other):\n",
    "        r1 = self.m1 + self.m2\n",
    "        r2 = other.m1 + other.m2\n",
    "        if r1>r2:\n",
    "            return True\n",
    "        else:\n",
    "            return False\n",
    "\n",
    "s1 = student(240,70)\n",
    "s2 = student(80,90)\n",
    "\n",
    "s3 = s1+s2\n",
    "# we can also compare 2 objects are > or less then\n",
    "if s1>s2:\n",
    "    print('s1 wins')\n",
    "\n",
    "else:\n",
    "    print('s2 wins')\n",
    "\n",
    "a = 8\n",
    "print(a)\n",
    "\n",
    "print(s1)"
   ]
  },
  {
   "cell_type": "code",
   "execution_count": 5,
   "id": "492ed325-07ec-446f-bd90-a8e0acd2c08d",
   "metadata": {},
   "outputs": [
    {
     "name": "stdout",
     "output_type": "stream",
     "text": [
      "s1 wins\n",
      "8\n",
      "<method-wrapper '__str__' of int object at 0x00007FFCBD713A98>\n",
      "8\n",
      "<__main__.student object at 0x0000022044505010>\n"
     ]
    }
   ],
   "source": [
    "class student:\n",
    "    def __init__(self,m1,m2):\n",
    "        self.m1 = m1\n",
    "        self.m2 = m2\n",
    "\n",
    "    def __add__(self, other): # WE DEFINE THE ADD METHOD.THIS CONCEPT IS CALLED OPERATOR OVERLOADING\n",
    "        m1 = self.m1 + other.m1\n",
    "        m2 = self.m2 + other.m2\n",
    "        s3 = student(m1,m2)\n",
    "\n",
    "        return(s3)\n",
    "    def __gt__(self, other):\n",
    "        r1 = self.m1 + self.m2\n",
    "        r2 = other.m1 + other.m2\n",
    "        if r1>r2:\n",
    "            return True\n",
    "        else:\n",
    "            return False\n",
    "\n",
    "s1 = student(240,70)\n",
    "s2 = student(80,90)\n",
    "\n",
    "s3 = s1+s2\n",
    "# we can also compare 2 objects are > or less then\n",
    "if s1>s2:\n",
    "    print('s1 wins')\n",
    "\n",
    "else:\n",
    "    print('s2 wins')\n",
    "\n",
    "a = 8\n",
    "print(a)\n",
    "print(a.__str__)\n",
    "print(a.__str__())\n",
    "\n",
    "print(s1.__str__())"
   ]
  },
  {
   "cell_type": "code",
   "execution_count": 6,
   "id": "926638d9-206b-4c82-8ee4-a3612c603d52",
   "metadata": {},
   "outputs": [
    {
     "name": "stdout",
     "output_type": "stream",
     "text": [
      "s1 wins\n",
      "8\n",
      "(240, 70)\n"
     ]
    }
   ],
   "source": [
    "class student:\n",
    "    def __init__(self,m1,m2):\n",
    "        self.m1 = m1\n",
    "        self.m2 = m2\n",
    "\n",
    "    def __add__(self, other): # WE DEFINE THE ADD METHOD.THIS CONCEPT IS CALLED OPERATOR OVERLOADING\n",
    "        m1 = self.m1 + other.m1\n",
    "        m2 = self.m2 + other.m2\n",
    "        s3 = student(m1,m2)\n",
    "\n",
    "        return(s3)\n",
    "    def __gt__(self, other):\n",
    "        r1 = self.m1 + self.m2\n",
    "        r2 = other.m1 + other.m2\n",
    "        if r1>r2:\n",
    "            return True\n",
    "        else:\n",
    "            return False\n",
    "\n",
    "    def __str__(self):\n",
    "        return self.m1, self.m2\n",
    "\n",
    "s1 = student(240,70)\n",
    "s2 = student(80,90)\n",
    "\n",
    "s3 = s1+s2\n",
    "# we can also compare 2 objects are > or less then\n",
    "if s1>s2:\n",
    "    print('s1 wins')\n",
    "\n",
    "else:\n",
    "    print('s2 wins')\n",
    "\n",
    "a = 8\n",
    "print(a)\n",
    "\n",
    "print(s1.__str__())"
   ]
  },
  {
   "cell_type": "code",
   "execution_count": 7,
   "id": "426fcf1e-d00a-4e5d-a95c-aad727a499bf",
   "metadata": {},
   "outputs": [
    {
     "name": "stdout",
     "output_type": "stream",
     "text": [
      "s2 wins\n",
      "8\n",
      "60 70\n",
      "80 90\n"
     ]
    }
   ],
   "source": [
    "class student:\n",
    "    def __init__(self,m1,m2):\n",
    "        self.m1 = m1\n",
    "        self.m2 = m2\n",
    "\n",
    "    def __add__(self, other): # WE DEFINE THE ADD METHOD.THIS CONCEPT IS CALLED OPERATOR OVERLOADING\n",
    "        m1 = self.m1 + other.m1\n",
    "        m2 = self.m2 + other.m2\n",
    "        s3 = student(m1,m2)\n",
    "\n",
    "        return(s3)\n",
    "    def __gt__(self, other):\n",
    "        r1 = self.m1 + self.m2\n",
    "        r2 = other.m1 + other.m2\n",
    "        if r1>r2:\n",
    "            return True\n",
    "        else:\n",
    "            return False\n",
    "\n",
    "    def __str__(self):\n",
    "        return \"{} {}\" .format(self.m1,self.m2)\n",
    "\n",
    "s1 = student(60,70)\n",
    "s2 = student(80,90)\n",
    "\n",
    "s3 = s1+s2\n",
    "# we can also compare 2 objects are > or less then\n",
    "if s1>s2:\n",
    "    print('s1 wins')\n",
    "\n",
    "else:\n",
    "    print('s2 wins')\n",
    "\n",
    "a = 8\n",
    "print(a)\n",
    "\n",
    "print(s1) # now it will wont print adddress it will print the values this is called operator overloading\n",
    "#if i remove __str__ we will get error\n",
    "print(s2) "
   ]
  },
  {
   "cell_type": "markdown",
   "id": "83f0411d-d8b9-4445-a79c-9b37eee7e788",
   "metadata": {},
   "source": [
    "## TYPES OF POLYMORPHISM:\n",
    "- METHOD OVERRIDING\n",
    "- METHOD OVERLOADING"
   ]
  },
  {
   "cell_type": "markdown",
   "id": "4e708706-e9cd-4fbb-b6c4-7b9c70b349bd",
   "metadata": {},
   "source": [
    "## METHOD OVERRIDING\n",
    "- other programing language like java, c, c++ we can create same class with 2 method names but in pyton we cant \r\n",
    "- class if we have method in same name different parameters or different argument it is called as method overloading \r\n",
    "- below example student class we take 2 method avg take 2 parameter but another take 3 argument this called python overloading but in python we dont have this conce\n",
    "- In python we cannot create 2 methods in same namept"
   ]
  },
  {
   "cell_type": "markdown",
   "id": "1e4b6e3e-8e9b-45e7-b8a0-f2802c541e50",
   "metadata": {},
   "source": [
    "## METHOD OVERLOADING\n",
    "- method overrding which simple means we have 2 methods with same name with same parameter we cannot create in same class \r\n",
    "- we cannot but can we create same name with same parameter we can create using inheritence this is called as methods overriding"
   ]
  },
  {
   "cell_type": "code",
   "execution_count": 8,
   "id": "9c35af35-7126-48ec-a4e6-d9c9e64c7a05",
   "metadata": {},
   "outputs": [
    {
     "name": "stdout",
     "output_type": "stream",
     "text": [
      "5\n"
     ]
    }
   ],
   "source": [
    "class demo:\n",
    "    def add(self,a,b):\n",
    "        return a+b\n",
    "\n",
    "d = demo()\n",
    "print(d.add(2,3))"
   ]
  },
  {
   "cell_type": "code",
   "execution_count": 11,
   "id": "c6358bda-e50b-4bf5-b8da-02a38baa36ae",
   "metadata": {},
   "outputs": [
    {
     "ename": "TypeError",
     "evalue": "demo.add() missing 1 required positional argument: 'c'",
     "output_type": "error",
     "traceback": [
      "\u001b[1;31m---------------------------------------------------------------------------\u001b[0m",
      "\u001b[1;31mTypeError\u001b[0m                                 Traceback (most recent call last)",
      "Cell \u001b[1;32mIn[11], line 13\u001b[0m\n\u001b[0;32m      9\u001b[0m         \u001b[38;5;28;01mreturn\u001b[39;00m a\u001b[38;5;241m+\u001b[39mb\u001b[38;5;241m+\u001b[39mc\n\u001b[0;32m     11\u001b[0m d \u001b[38;5;241m=\u001b[39m demo()\n\u001b[1;32m---> 13\u001b[0m \u001b[38;5;28mprint\u001b[39m(d\u001b[38;5;241m.\u001b[39madd(\u001b[38;5;241m2\u001b[39m,\u001b[38;5;241m3\u001b[39m))   \u001b[38;5;66;03m# arguments\u001b[39;00m\n\u001b[0;32m     14\u001b[0m \u001b[38;5;28mprint\u001b[39m(d\u001b[38;5;241m.\u001b[39madd(\u001b[38;5;241m4\u001b[39m,\u001b[38;5;241m5\u001b[39m,\u001b[38;5;241m6\u001b[39m))\n",
      "\u001b[1;31mTypeError\u001b[0m: demo.add() missing 1 required positional argument: 'c'"
     ]
    }
   ],
   "source": [
    "# this concept called as method overloading (same method different argument)\n",
    "# python doesnot support python overloading you can define same but it will take latest method\n",
    "# discard the first method which contrain 2 argument\n",
    "class demo:\n",
    "    def add(self,a,b):  # parameters\n",
    "        return a+b\n",
    "\n",
    "    def add(self,a,b,c):\n",
    "        return a+b+c\n",
    "\n",
    "d = demo()\n",
    "\n",
    "print(d.add(2,3))   # arguments\n",
    "print(d.add(4,5,6))\n",
    "\n",
    "#it always consider latest one"
   ]
  },
  {
   "cell_type": "code",
   "execution_count": 12,
   "id": "acf585b0-ded6-4076-8814-0c4e6a7a2da6",
   "metadata": {},
   "outputs": [
    {
     "name": "stdout",
     "output_type": "stream",
     "text": [
      "5\n",
      "15\n"
     ]
    }
   ],
   "source": [
    "## This method overloading we can acheiving with different concept using default argument\n",
    "\n",
    "class demo:\n",
    "    def add(self,a,b,c=0):\n",
    "        return a+b+c\n",
    "\n",
    "d = demo()\n",
    "\n",
    "print(d.add(2,3))\n",
    "print(d.add(4,5,6))"
   ]
  },
  {
   "cell_type": "code",
   "execution_count": 13,
   "id": "fead1279-e5e6-47a7-a5ac-4125740aa7a8",
   "metadata": {},
   "outputs": [
    {
     "name": "stdout",
     "output_type": "stream",
     "text": [
      "5\n",
      "15\n",
      "21\n"
     ]
    }
   ],
   "source": [
    "class demo:\n",
    "\n",
    "    def add(self, *arg):\n",
    "        total = 0\n",
    "        for i in arg:\n",
    "            total = total + i\n",
    "        return total\n",
    "\n",
    "d = demo()\n",
    "\n",
    "print(d.add(2,3))\n",
    "print(d.add(4,5,6))\n",
    "print(d.add(1,2,3,4,5,6))"
   ]
  },
  {
   "cell_type": "code",
   "execution_count": 18,
   "id": "151acd55-6b01-4923-9b5a-621dbc8d3a06",
   "metadata": {},
   "outputs": [
    {
     "name": "stdout",
     "output_type": "stream",
     "text": [
      "30\n"
     ]
    }
   ],
   "source": [
    "class student:\n",
    "    def __init__(self,m1,m2):\n",
    "        self.m1=m1\n",
    "        self.m2=m2\n",
    "    \n",
    "    def sum(self,a,b):\n",
    "        s=a+b\n",
    "        \n",
    "        return s\n",
    "\n",
    "s1=student(50,60)\n",
    "\n",
    "print(s1.sum(10,20))\n"
   ]
  },
  {
   "cell_type": "code",
   "execution_count": 20,
   "id": "d9b67760-5986-4a3e-8499-fe2a9c8666c3",
   "metadata": {},
   "outputs": [
    {
     "name": "stdout",
     "output_type": "stream",
     "text": [
      "60\n"
     ]
    }
   ],
   "source": [
    "class student:\n",
    "    def __init__(self,m1,m2):\n",
    "        self.m1=m1\n",
    "        self.m2=m2\n",
    "    \n",
    "    def sum(self,a,b,c):\n",
    "        s=a+b+c\n",
    "        \n",
    "        return s\n",
    "\n",
    "s1=student(50,60)\n",
    "\n",
    "print(s1.sum(10,20,30))\n"
   ]
  },
  {
   "cell_type": "code",
   "execution_count": 21,
   "id": "0176f177-d780-46f5-869a-52d7709047e8",
   "metadata": {},
   "outputs": [
    {
     "name": "stdout",
     "output_type": "stream",
     "text": [
      "10\n",
      "30\n",
      "60\n",
      "40\n"
     ]
    }
   ],
   "source": [
    "class student:\n",
    "    def __init__(self,m1,m2):\n",
    "        self.m1 = m1\n",
    "        self.m2 = m2\n",
    "        \n",
    "    def sum(self, a=None, b=None,c=None):\n",
    "        if a!=None and b!=None and c!=None:\n",
    "            s = a +b +c\n",
    "        elif a!=None and b!=None:\n",
    "            s = a+b\n",
    "        elif a!= None and c!= None:\n",
    "            s = a + c\n",
    "        else:\n",
    "            s = a\n",
    "            \n",
    "        return s\n",
    "    \n",
    "s1 = student(50, 60)\n",
    "\n",
    "print(s1.sum(10)) # hear we can pass 1 parameter\n",
    "print(s1.sum(10,20)) # hear we can pass 2 parameter\n",
    "print(s1.sum(10,20,30)) # hear we can pass 3 parameter\n",
    "print(s1.sum(10,30))\n",
    "\n",
    "\n",
    "#print(s1.sum(10,20,30,40))\n",
    "\n",
    "# THIS CONCEPT CALLED AS METHOD OVERLOADING"
   ]
  },
  {
   "cell_type": "markdown",
   "id": "f4ea13d7-c60e-4bb1-a1ff-6efb1694fa90",
   "metadata": {},
   "source": [
    "### METHOD OVERRIDING \n",
    "- In many software project method over riding use heavily\n",
    "- method overriding always implements in inheritence & it always work with 2 class"
   ]
  },
  {
   "cell_type": "code",
   "execution_count": 24,
   "id": "5a977a60-e501-4f72-b2b5-1cc61054b1bb",
   "metadata": {},
   "outputs": [
    {
     "name": "stdout",
     "output_type": "stream",
     "text": [
      "in A show\n"
     ]
    }
   ],
   "source": [
    "class A:\n",
    "    def show(self):\n",
    "        print('in A show')\n",
    "\n",
    "s1=A()\n",
    "s1.show()"
   ]
  },
  {
   "cell_type": "code",
   "execution_count": 26,
   "id": "f4d91188-d2ea-471f-a69b-912d23c30726",
   "metadata": {},
   "outputs": [
    {
     "name": "stdout",
     "output_type": "stream",
     "text": [
      "in A show\n"
     ]
    }
   ],
   "source": [
    "class A():  #----------->parent class\n",
    "    def show(self):\n",
    "        print('in A show')\n",
    "\n",
    "class B():#---------<chold class\n",
    "    pass\n",
    "\n",
    "s1=A()\n",
    "s1.show()"
   ]
  },
  {
   "cell_type": "code",
   "execution_count": 27,
   "id": "f462249b-81c5-46d9-a66e-417f3f2720a1",
   "metadata": {},
   "outputs": [
    {
     "name": "stdout",
     "output_type": "stream",
     "text": [
      "in A show\n"
     ]
    }
   ],
   "source": [
    "class A:  # --------------- parent class \n",
    "    def show(self):\n",
    "        print('in A show')\n",
    "        \n",
    "class B(A): #-------------------child class & lets use inheritence concept\n",
    "    pass\n",
    "        \n",
    "s1 = B()\n",
    "s1.show()"
   ]
  },
  {
   "cell_type": "markdown",
   "id": "4eda3dd1-7e0c-4a72-9c87-d0b03b715b5a",
   "metadata": {},
   "source": [
    "- father has nokia 1100 & child also use same phone. child use his fathers phone\n",
    "- child bought motorla phone & father has nokie \n",
    "- hear we can say motorola overrid the nokia phone\n",
    "- my phone override my fathers phone"
   ]
  },
  {
   "cell_type": "code",
   "execution_count": 28,
   "id": "9643314a-744f-4bb0-ae18-32bce9c02058",
   "metadata": {},
   "outputs": [
    {
     "name": "stdout",
     "output_type": "stream",
     "text": [
      "in B show\n"
     ]
    }
   ],
   "source": [
    "class A:  #----------------<parent class\n",
    "    def show(self):\n",
    "        print('in A show')\n",
    "\n",
    "class B(A):\n",
    "    def show(self): \n",
    "        print('in B show') \n",
    "s1=B()\n",
    "s1.show()\n",
    "        "
   ]
  },
  {
   "cell_type": "markdown",
   "id": "deafcf0a-c681-43ba-9795-1d8736d02199",
   "metadata": {},
   "source": [
    "### ABSTRACT CLASS AND ABSTRACT METHOD IN PYTHON"
   ]
  },
  {
   "cell_type": "code",
   "execution_count": 30,
   "id": "404bf0d5-5330-436a-a95c-ef71acc21309",
   "metadata": {},
   "outputs": [],
   "source": [
    "class computer:\n",
    "    def process(self):\n",
    "        print('dasu')"
   ]
  },
  {
   "cell_type": "code",
   "execution_count": 31,
   "id": "92a0af50-3814-4f98-a4bc-7450fc9dbb1e",
   "metadata": {},
   "outputs": [],
   "source": [
    "class computer:\n",
    "    def process(self):\n",
    "        pass"
   ]
  },
  {
   "cell_type": "markdown",
   "id": "ba3be1af-1886-41c6-bf81-3404744323c9",
   "metadata": {},
   "source": [
    "- the class which has ABSTRACT METHOD is called as ABSTRACT CLASS\n",
    " \n",
    " - in other programing langauae we have abstract class and abstract method\n",
    " - but in python we dont have bydefault abstract class so we need to define that FROM abc \n",
    " - abstract class user cannot creat object for it.\n",
    " - canot create object of abstract class "
   ]
  },
  {
   "cell_type": "code",
   "execution_count": 32,
   "id": "485bde4c-67eb-4500-ba49-5cb64d593f1a",
   "metadata": {},
   "outputs": [],
   "source": [
    "class bike:\n",
    "    def __init__(self):\n",
    "        self.no_of_tyres = 2\n",
    "    def start(self):\n",
    "        print('start with kick')\n",
    "        \n",
    "class activa:\n",
    "    def __init__(self):\n",
    "        self.no_of_tyres = 2\n",
    "    def start(self):\n",
    "        print('self start')\n",
    "        \n",
    "class car:\n",
    "    def __init__(self):\n",
    "        self.no_of_tyres = 4\n",
    "    def start(self):\n",
    "        print('start with key')"
   ]
  },
  {
   "cell_type": "code",
   "execution_count": 33,
   "id": "eceff555-3744-4e64-8347-4e2f24577cf2",
   "metadata": {},
   "outputs": [],
   "source": [
    "class vehicle:\n",
    "    def __init__(self):\n",
    "        self.no_of_types_vehicle = n \n",
    "    def start(self): # we just declare but not define that means nothing to do with start method hear\n",
    "        pass\n",
    "\n",
    "class bike:\n",
    "    def __init__(self):\n",
    "        self.no_of_tyres = 2\n",
    "    def start(self):\n",
    "        print('start with kick')\n",
    "        \n",
    "class activa:\n",
    "    def __init__(self):\n",
    "        self.no_of_tyres = 2\n",
    "    def start(self):\n",
    "        print('self start')\n",
    "        \n",
    "class car:\n",
    "    def __init__(self):\n",
    "        self.no_of_tyres = 4\n",
    "    def start(self):\n",
    "        print('start with key')"
   ]
  },
  {
   "cell_type": "code",
   "execution_count": 34,
   "id": "bd08af4e-fb0d-41ba-b949-317a6f017c19",
   "metadata": {},
   "outputs": [],
   "source": [
    "\n",
    "from abc import ABC, abstractmethod\n",
    "\n",
    "class vehicle(ABC):\n",
    "    def __init__(self,n):\n",
    "        self.no_of_types_vehicle = n \n",
    "    @abstractmethod\n",
    "    def start(self): # we just declare but not define that means nothing to do with start method hear\n",
    "        pass\n",
    "\n",
    "class bike:\n",
    "    def __init__(self):\n",
    "        self.no_of_tyres = 2\n",
    "    def start(self):\n",
    "        print('start with kick')\n",
    "        \n",
    "class activa:\n",
    "    def __init__(self):\n",
    "        self.no_of_tyres = 2\n",
    "    def start(self):\n",
    "        print('self start')\n",
    "        \n",
    "class car:\n",
    "    def __init__(self):\n",
    "        self.no_of_tyres = 4\n",
    "    def start(self):\n",
    "        print('start with key')\n"
   ]
  },
  {
   "cell_type": "code",
   "execution_count": 35,
   "id": "77129686-3f02-482c-8e37-33159b092d7d",
   "metadata": {},
   "outputs": [],
   "source": [
    "\n",
    "from abc import ABC, abstractmethod\n",
    "\n",
    "class vehicle(ABC):\n",
    "    def __init__(self,n):\n",
    "        self.no_of_types_vehicle = n \n",
    "        \n",
    "    @abstractmethod\n",
    "    def start(self): # we just declare but not define that means nothing to do with start method hear\n",
    "        pass\n",
    "\n",
    "#v= vehicle() # cant create object for the abstract class"
   ]
  },
  {
   "cell_type": "code",
   "execution_count": 36,
   "id": "13753a64-3858-41d5-8e9e-913d1e922789",
   "metadata": {},
   "outputs": [],
   "source": [
    "class computer:\n",
    "    def process(self):\n",
    "        pass\n",
    "    \n",
    "com = computer()\n",
    "com.process()\n",
    "# this is not an abstract class for that we need to import it"
   ]
  },
  {
   "cell_type": "markdown",
   "id": "a305c46d-ddb9-4945-963a-c4e42ddf2f08",
   "metadata": {},
   "source": [
    "- ONCE THE CLASS IS ABSTRCT YOU CANT CALLED OBJECT OF THE CLASS"
   ]
  },
  {
   "cell_type": "code",
   "execution_count": 1,
   "id": "084e17e3-6fc5-4cc8-a235-8bd9c84d2c93",
   "metadata": {},
   "outputs": [],
   "source": [
    "from abc import ABC, abstractmethod\n",
    "\n",
    "class computer(ABC):\n",
    "    @abstractmethod\n",
    "    def process(self):\n",
    "        pass\n",
    "\n",
    "class Laptop(computer):    ##---- Laptop is subclass of computer\n",
    "    def process(self):\n",
    "        print('its working')\n",
    "\n",
    "com1 = Laptop()"
   ]
  },
  {
   "cell_type": "code",
   "execution_count": 2,
   "id": "a60e64b6-6006-41ef-9f48-966898760fe3",
   "metadata": {},
   "outputs": [
    {
     "name": "stdout",
     "output_type": "stream",
     "text": [
      "its working\n"
     ]
    }
   ],
   "source": [
    "from abc import ABC, abstractmethod\n",
    "\n",
    "class computer(ABC):  # computer is abstract class which inherits from ABC()\n",
    "    @abstractmethod\n",
    "    def process(self):   # abstract method\n",
    "        pass\n",
    "\n",
    "class Laptop(computer):    ##---- Laptop is subclass of computer\n",
    "    def process(self):\n",
    "        print('its working')\n",
    "\n",
    "com1 = Laptop()\n",
    "#com = computer()\n",
    "#com.process()\n",
    "\n",
    "com1.process()"
   ]
  },
  {
   "cell_type": "code",
   "execution_count": 4,
   "id": "62c72b37-07d5-46cd-9ed8-b39ff2a01b34",
   "metadata": {},
   "outputs": [
    {
     "name": "stdout",
     "output_type": "stream",
     "text": [
      "its working\n",
      "its not working\n"
     ]
    }
   ],
   "source": [
    "from abc import ABC, abstractmethod\n",
    "\n",
    "class computer(ABC):  # computer is abstract class which inherits from ABC()\n",
    "    @abstractmethod\n",
    "    def process(self):   # abstract method\n",
    "        pass\n",
    "\n",
    "class Laptop(computer):    ##---- Laptop is subclass of computer\n",
    "    def process(self):\n",
    "        print('its working')\n",
    "        print('its not working')\n",
    "\n",
    "com1 = Laptop()\n",
    "#com = computer()\n",
    "#com.process()\n",
    "\n",
    "com1.process()"
   ]
  },
  {
   "cell_type": "markdown",
   "id": "2ad5b374-6a6d-4b0c-860e-78a60c874aaa",
   "metadata": {},
   "source": [
    "## In the example above:\r\n",
    "\r\n",
    "- We define an abstract class COMPUTER that inherits from ABC (Abstract Base Class).\r\n",
    "- We declare an abstract method PROCESS within the COMPUTER class using the @abstractmethod decorator.\r\n",
    "- We create subclasses LAPTOP that inherit from the COMPUTER abstract class and provide implementations for the abstract method PROCESS."
   ]
  },
  {
   "cell_type": "code",
   "execution_count": 5,
   "id": "bf7b74c5-5c2c-4760-8982-693cb336bff5",
   "metadata": {},
   "outputs": [
    {
     "name": "stdout",
     "output_type": "stream",
     "text": [
      "we solveing bugs\n",
      "its working\n"
     ]
    }
   ],
   "source": [
    "from abc import ABC, abstractmethod\n",
    "\n",
    "class computer(ABC): #---computer is abstract class which inherits from ABC()\n",
    "    @abstractmethod\n",
    "    def process(self): # --- abstract method \n",
    "        pass\n",
    "\n",
    "class Laptop(computer):    #------ laptop  is subclass of computer \n",
    "    def process(self):\n",
    "        print('its working')\n",
    "        \n",
    "class programmer():\n",
    "    def work(self):\n",
    "        print('we solveing bugs')\n",
    "        \n",
    "com1 = Laptop()\n",
    "#com = computer()\n",
    "#com.process()\n",
    "prog1 = programmer()\n",
    "\n",
    "prog1.work()\n",
    "com1.process()"
   ]
  },
  {
   "cell_type": "code",
   "execution_count": 9,
   "id": "8019026f-18dd-48f0-83e9-364652400403",
   "metadata": {},
   "outputs": [
    {
     "name": "stdout",
     "output_type": "stream",
     "text": [
      "Circle Area: 78.5\n",
      "Square Area: 16\n"
     ]
    }
   ],
   "source": [
    "from abc import ABC, abstractmethod\n",
    "\n",
    "class Shape(ABC):\n",
    "    @abstractmethod\n",
    "    def area(self):\n",
    "        pass\n",
    "\n",
    "class Circle(Shape):\n",
    "    def __init__(self, radius):\n",
    "        self.radius = radius\n",
    "\n",
    "    def area(self):\n",
    "        return 3.14 * self.radius * self.radius\n",
    "\n",
    "class Square(Shape):\n",
    "    def __init__(self,side_length):\n",
    "        self.side_length = side_length\n",
    "\n",
    "    def area(self):\n",
    "        return self.side_length * self.side_length\n",
    "\n",
    "circle = Circle(5)\n",
    "print(\"Circle Area:\", circle.area())\n",
    "\n",
    "square = Square(4)\n",
    "print(\"Square Area:\", square.area())"
   ]
  },
  {
   "cell_type": "markdown",
   "id": "dfb33bc3-c49d-4251-8122-af5d0e27b8c0",
   "metadata": {},
   "source": [
    "## ITERATOR\n",
    "- iterator means keep adding the value i++\r\n",
    "- iterator mostly used for loop \r\n",
    "- if we have list of 5 elements using a loop we can iterat from 1st element to the last element"
   ]
  },
  {
   "cell_type": "code",
   "execution_count": 10,
   "id": "f26ecdc8-4365-41a6-8c03-75cf0f039b03",
   "metadata": {},
   "outputs": [
    {
     "name": "stdout",
     "output_type": "stream",
     "text": [
      "7\n",
      "8\n",
      "9\n",
      "5\n"
     ]
    }
   ],
   "source": [
    "nums = [7,8,9,5]\n",
    "\n",
    "print(nums[0])\n",
    "print(nums[1])\n",
    "print(nums[2])\n",
    "print(nums[3])"
   ]
  },
  {
   "cell_type": "code",
   "execution_count": 11,
   "id": "4486e038-0980-4edf-b506-a14e866b9e87",
   "metadata": {},
   "outputs": [
    {
     "name": "stdout",
     "output_type": "stream",
     "text": [
      "7\n",
      "8\n",
      "9\n",
      "5\n"
     ]
    }
   ],
   "source": [
    "# the other way to print the values\n",
    "for i in nums:\n",
    "    print(i)"
   ]
  },
  {
   "cell_type": "code",
   "execution_count": 12,
   "id": "d914134b-89a1-423f-9999-ffab73e0d76e",
   "metadata": {},
   "outputs": [
    {
     "name": "stdout",
     "output_type": "stream",
     "text": [
      "<list_iterator object at 0x0000027360D53D00>\n"
     ]
    }
   ],
   "source": [
    "it = iter(nums)\n",
    "print(it)"
   ]
  },
  {
   "cell_type": "code",
   "execution_count": 13,
   "id": "904280a6-c097-4eda-aed9-ba0940227edf",
   "metadata": {},
   "outputs": [
    {
     "name": "stdout",
     "output_type": "stream",
     "text": [
      "7\n"
     ]
    }
   ],
   "source": [
    "print(it.__next__())"
   ]
  },
  {
   "cell_type": "code",
   "execution_count": 14,
   "id": "61ebee44-a873-4127-bbfc-6a2482134a7d",
   "metadata": {},
   "outputs": [
    {
     "name": "stdout",
     "output_type": "stream",
     "text": [
      "8\n"
     ]
    }
   ],
   "source": [
    "print(it.__next__())"
   ]
  },
  {
   "cell_type": "code",
   "execution_count": 15,
   "id": "b2ca7485-62eb-4c31-a427-9a6b8efa3d6d",
   "metadata": {},
   "outputs": [
    {
     "name": "stdout",
     "output_type": "stream",
     "text": [
      "9\n"
     ]
    }
   ],
   "source": [
    "print(it.__next__())"
   ]
  },
  {
   "cell_type": "code",
   "execution_count": 16,
   "id": "5f55c66c-58d3-43e6-8568-0269f49ebb29",
   "metadata": {},
   "outputs": [
    {
     "name": "stdout",
     "output_type": "stream",
     "text": [
      "5\n"
     ]
    }
   ],
   "source": [
    "print(it.__next__())"
   ]
  },
  {
   "cell_type": "markdown",
   "id": "a0b403aa-7e46-4781-a34e-be34804aea12",
   "metadata": {},
   "source": [
    "- in above code we only got address but we dont want the address hear\r\n",
    "- for that we need to another inbuild function called __next__\r\n",
    "- everytime we need to execture so that it will give value one by one\r\n",
    "- behind the scene iterator has multiple values , i am calline your method which is __next__\r\n",
    "- in next it will pick up 1 values which means it preserve the last value of i "
   ]
  },
  {
   "cell_type": "code",
   "execution_count": 18,
   "id": "dcd521cf-4067-4c1d-b3f7-ec94cc223924",
   "metadata": {},
   "outputs": [],
   "source": [
    "num = [7,8,9,5]"
   ]
  },
  {
   "cell_type": "code",
   "execution_count": 19,
   "id": "a5569685-4879-480d-8e73-b56c52ff760c",
   "metadata": {},
   "outputs": [
    {
     "name": "stdout",
     "output_type": "stream",
     "text": [
      "7\n",
      "8\n",
      "9\n",
      "5\n"
     ]
    }
   ],
   "source": [
    "for i in num:\n",
    "    print(i)"
   ]
  },
  {
   "cell_type": "code",
   "execution_count": null,
   "id": "69d8dd83-968f-43bd-9332-0c14f478682c",
   "metadata": {},
   "outputs": [],
   "source": [
    "# I WANT TO PRINT TOP 10 VALUES USING 2 METHOD ITER() & NEXT()\n",
    "# INFINITY LOOP DONT NUN\n",
    "\n",
    "class topten:\n",
    "    def __init__(self):\n",
    "        self.num = 1\n",
    "\n",
    "    def __iter__(self):\n",
    "        return self\n",
    "\n",
    "    def __next__(self):\n",
    "        val = self.num\n",
    "        self.num += 1\n",
    "        return val\n",
    "\n",
    "values = topten()\n",
    "\n",
    "for i in values"
   ]
  },
  {
   "cell_type": "markdown",
   "id": "776ae12c-0768-49f3-af3f-129057a36aa9",
   "metadata": {},
   "source": [
    "## GENERATORS IN PYTHON\n",
    "- we will use iterator to print the value 1 by 1\r\n",
    "- but there are small issue with iterator first issue is we need to create our own iterator using iter() & next()\r\n",
    "- we dont want to do that . we want python to do for us & thats called GENERATOR\r\n",
    "- very simple what i want to say GENARATOR GIVES ITERATOR\r\n",
    "- lets understand how to create GENERATORS"
   ]
  },
  {
   "cell_type": "code",
   "execution_count": 1,
   "id": "5e5bc3c1-6b19-4207-9faa-80ab3b809c9e",
   "metadata": {},
   "outputs": [
    {
     "name": "stdout",
     "output_type": "stream",
     "text": [
      "5\n"
     ]
    }
   ],
   "source": [
    "def topten():\n",
    "    return 5\n",
    "\n",
    "values = topten()\n",
    "print(values)"
   ]
  },
  {
   "cell_type": "code",
   "execution_count": 2,
   "id": "f8a05473-5aed-44a5-82fc-04f416479cec",
   "metadata": {},
   "outputs": [
    {
     "name": "stdout",
     "output_type": "stream",
     "text": [
      "<generator object topten at 0x000002A68E1DF740>\n"
     ]
    }
   ],
   "source": [
    "def topten():\n",
    "    yield 5\n",
    "\n",
    "values = topten()\n",
    "print(values)"
   ]
  },
  {
   "cell_type": "code",
   "execution_count": 3,
   "id": "d041481d-d0d8-4c35-8c39-6eb08350b6a7",
   "metadata": {},
   "outputs": [
    {
     "name": "stdout",
     "output_type": "stream",
     "text": [
      "5\n"
     ]
    },
    {
     "ename": "StopIteration",
     "evalue": "",
     "output_type": "error",
     "traceback": [
      "\u001b[1;31m---------------------------------------------------------------------------\u001b[0m",
      "\u001b[1;31mStopIteration\u001b[0m                             Traceback (most recent call last)",
      "Cell \u001b[1;32mIn[3], line 6\u001b[0m\n\u001b[0;32m      4\u001b[0m values \u001b[38;5;241m=\u001b[39m topten()\n\u001b[0;32m      5\u001b[0m \u001b[38;5;28mprint\u001b[39m(values\u001b[38;5;241m.\u001b[39m\u001b[38;5;21m__next__\u001b[39m())\n\u001b[1;32m----> 6\u001b[0m \u001b[38;5;28mprint\u001b[39m(values\u001b[38;5;241m.\u001b[39m\u001b[38;5;21m__next__\u001b[39m())\n",
      "\u001b[1;31mStopIteration\u001b[0m: "
     ]
    }
   ],
   "source": [
    "def topten():\n",
    "    yield 5\n",
    "\n",
    "values = topten()\n",
    "print(values.__next__())\n",
    "print(values.__next__())"
   ]
  },
  {
   "cell_type": "code",
   "execution_count": 4,
   "id": "068abefe-af64-44a3-9fad-01f8a089dc21",
   "metadata": {},
   "outputs": [
    {
     "name": "stdout",
     "output_type": "stream",
     "text": [
      "5\n",
      "6\n",
      "7\n"
     ]
    }
   ],
   "source": [
    "def topten():\n",
    "    yield 5\n",
    "    yield 6\n",
    "    yield 7\n",
    "    \n",
    "    \n",
    "values = topten()\n",
    "\n",
    "print(values.__next__())\n",
    "\n",
    "print(values.__next__())\n",
    "\n",
    "print(values.__next__())"
   ]
  },
  {
   "cell_type": "code",
   "execution_count": 5,
   "id": "e470ac4f-1b6c-494d-bbf0-31ffa8339748",
   "metadata": {},
   "outputs": [
    {
     "name": "stdout",
     "output_type": "stream",
     "text": [
      "1\n"
     ]
    }
   ],
   "source": [
    "def topten():\n",
    "    yield 1\n",
    "    yield 2\n",
    "    yield 3\n",
    "    yield 4\n",
    "values = topten()\n",
    "\n",
    "print(values.__next__())"
   ]
  },
  {
   "cell_type": "code",
   "execution_count": 6,
   "id": "ee722df3-9c0c-4bf5-9ab8-abbe40e6f6b3",
   "metadata": {},
   "outputs": [
    {
     "name": "stdout",
     "output_type": "stream",
     "text": [
      "1\n",
      "2\n"
     ]
    }
   ],
   "source": [
    "def topten():\n",
    "    yield 1\n",
    "    yield 2\n",
    "    yield 3\n",
    "    yield 4\n",
    "values = topten()\n",
    "\n",
    "print(values.__next__())\n",
    "print(values.__next__())"
   ]
  },
  {
   "cell_type": "code",
   "execution_count": 7,
   "id": "c092e53f-d0fc-4c62-8a9c-b7a21b627589",
   "metadata": {},
   "outputs": [
    {
     "name": "stdout",
     "output_type": "stream",
     "text": [
      "1\n",
      "2\n",
      "3\n",
      "4\n",
      "5\n"
     ]
    }
   ],
   "source": [
    "def topten():\n",
    "    yield 1\n",
    "    yield 2\n",
    "    yield 3\n",
    "    yield 4\n",
    "    yield 5\n",
    "    yield 6\n",
    "values = topten()\n",
    "\n",
    "print(values.__next__())\n",
    "print(values.__next__())\n",
    "print(values.__next__())\n",
    "print(values.__next__())\n",
    "print(values.__next__())"
   ]
  },
  {
   "cell_type": "markdown",
   "id": "bf791acf-d703-453f-8cd3-39b7ba6523bd",
   "metadata": {},
   "source": [
    "# Lets print top 10 perfect square"
   ]
  },
  {
   "cell_type": "code",
   "execution_count": 8,
   "id": "87f48bf3-c97c-4d17-8d92-09418a99e8fa",
   "metadata": {},
   "outputs": [
    {
     "name": "stdout",
     "output_type": "stream",
     "text": [
      "1\n",
      "4\n",
      "9\n",
      "16\n",
      "25\n",
      "36\n",
      "49\n",
      "64\n",
      "81\n",
      "100\n"
     ]
    }
   ],
   "source": [
    "def topten():\n",
    "    n = 1\n",
    "\n",
    "    while n<=10:\n",
    "        sq = n*n\n",
    "        yield sq\n",
    "        n += 1\n",
    "\n",
    "values = topten()\n",
    "\n",
    "for i in values:\n",
    "    print(i)"
   ]
  },
  {
   "cell_type": "code",
   "execution_count": null,
   "id": "0d29a0a0-e864-47c9-b905-4c2b97f24dce",
   "metadata": {},
   "outputs": [],
   "source": []
  },
  {
   "cell_type": "code",
   "execution_count": null,
   "id": "8df13ae7-e6cf-4890-ab33-713f8b0d70ef",
   "metadata": {},
   "outputs": [],
   "source": []
  },
  {
   "cell_type": "code",
   "execution_count": null,
   "id": "ac0a0438-5b9b-42b4-b672-7ad9aa60a849",
   "metadata": {},
   "outputs": [],
   "source": []
  },
  {
   "cell_type": "code",
   "execution_count": null,
   "id": "687f80ba-6c3a-4e93-b56b-e820ca152dc7",
   "metadata": {},
   "outputs": [],
   "source": []
  },
  {
   "cell_type": "code",
   "execution_count": null,
   "id": "671891c3-b839-4b2a-ba47-8dbeb6d323db",
   "metadata": {},
   "outputs": [],
   "source": []
  },
  {
   "cell_type": "code",
   "execution_count": null,
   "id": "7437fe58-03ac-4af9-92d8-b0ae750ae3ef",
   "metadata": {},
   "outputs": [],
   "source": []
  }
 ],
 "metadata": {
  "kernelspec": {
   "display_name": "Python 3 (ipykernel)",
   "language": "python",
   "name": "python3"
  },
  "language_info": {
   "codemirror_mode": {
    "name": "ipython",
    "version": 3
   },
   "file_extension": ".py",
   "mimetype": "text/x-python",
   "name": "python",
   "nbconvert_exporter": "python",
   "pygments_lexer": "ipython3",
   "version": "3.12.4"
  }
 },
 "nbformat": 4,
 "nbformat_minor": 5
}
